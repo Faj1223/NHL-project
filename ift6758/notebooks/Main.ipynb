{
 "cells": [
  {
   "cell_type": "markdown",
   "id": "ed072f5ade601bd1",
   "metadata": {},
   "source": [
    "Solutions: IFT6758 - Project milestone 1"
   ]
  },
  {
   "cell_type": "markdown",
   "id": "3d845ffa7762c30d",
   "metadata": {},
   "source": [
    "1. Download the play-by-play data for the 2016-2017 season."
   ]
  },
  {
   "cell_type": "code",
   "execution_count": null,
   "id": "initial_id",
   "metadata": {
    "ExecuteTime": {
     "end_time": "2024-10-02T22:56:11.777257Z",
     "start_time": "2024-10-02T22:56:11.192786Z"
    }
   },
   "outputs": [],
   "source": [
    "import ift6758\n",
    "import sys\n",
    "import importlib\n",
    "from multiprocessing.util import debug\n",
    "\n",
    "sys.path.append('../..')\n",
    "from ift6758.controller.nhl_data_downloader import NHLDataDownloader, get_game_dataframe\n",
    "#import controller.nhl_data_downloader\n",
    "\n",
    "importlib.reload(ift6758.controller.nhl_data_downloader)\n",
    "#from controller.nhl_data_downloader import NHLDataDownloader\n",
    "\n",
    "\n"
   ]
  },
  {
   "cell_type": "code",
   "execution_count": null,
   "id": "b07ecee74db539f6",
   "metadata": {
    "ExecuteTime": {
     "end_time": "2024-10-02T00:05:41.401695Z",
     "start_time": "2024-10-02T00:05:41.398339Z"
    }
   },
   "outputs": [],
   "source": [
    "downloader = NHLDataDownloader()\n",
    "print(downloader.data_dir)"
   ]
  },
  {
   "cell_type": "code",
   "execution_count": null,
   "id": "17a74864f61fb916",
   "metadata": {
    "ExecuteTime": {
     "end_time": "2024-10-02T00:05:44.284642Z",
     "start_time": "2024-10-02T00:05:43.787180Z"
    }
   },
   "outputs": [],
   "source": [
    "#downloader.download_all_seasons_play_by_play(2016,2023)\n",
    "downloader.download_regular_season(2016, 5)"
   ]
  },
  {
   "cell_type": "markdown",
   "id": "291274e32813a81",
   "metadata": {},
   "source": [
    "2. Interactive debug ipywidget to explore the data."
   ]
  },
  {
   "cell_type": "code",
   "execution_count": null,
   "id": "7a871df9536ee66b",
   "metadata": {
    "ExecuteTime": {
     "end_time": "2024-10-02T00:41:30.836714Z",
     "start_time": "2024-10-02T00:41:30.821287Z"
    }
   },
   "outputs": [],
   "source": [
    "import ipywidgets as widgets\n",
    "from IPython.display import display, Markdown\n",
    "import matplotlib.pyplot as plt\n",
    "import matplotlib.image as mpimg\n",
    "import json\n",
    "import os"
   ]
  },
  {
   "cell_type": "code",
   "execution_count": null,
   "id": "9b24bac77d809be6",
   "metadata": {
    "ExecuteTime": {
     "end_time": "2024-10-02T01:14:50.045240Z",
     "start_time": "2024-10-02T01:14:49.907414Z"
    }
   },
   "outputs": [],
   "source": [
    "from ift6758.controller.rink_event_debug_tool import RinkEventDebugTool\n",
    "importlib.reload(ift6758.controller.rink_event_debug_tool)\n",
    "\n",
    "event_debug_tool = RinkEventDebugTool([\"shot-on-goal\", \"goal\"])\n",
    "\n",
    "event_debug_tool.display_layout()"
   ]
  },
  {
   "cell_type": "markdown",
   "id": "e61fc7ea0fa4d6db",
   "metadata": {},
   "source": [
    "3. Data cleaning\n",
    "\n",
    "Ici on simplement utiliser 'get_game_dataframe' pour avoir un dataframe nettoyer d'une partie.\n",
    "Si le csv existe, on le charge sinon, on fait une requete a l'api pour cette partie et sauvegardons un json non nettoyer et un csv nettoyer pour ensuite le retourner ici."
   ]
  },
  {
   "cell_type": "code",
   "execution_count": null,
   "id": "cd19e117b9e03148",
   "metadata": {
    "ExecuteTime": {
     "end_time": "2024-10-02T22:56:17.839796Z",
     "start_time": "2024-10-02T22:56:17.793719Z"
    }
   },
   "outputs": [],
   "source": [
    "game_id = \"2016020002\"\n",
    "get_game_dataframe(game_id)"
   ]
  },
  {
   "cell_type": "code",
   "execution_count": null,
   "id": "5744cdfe-fea7-4f16-a343-c57043594858",
   "metadata": {
    "ExecuteTime": {
     "end_time": "2024-09-30T22:54:38.375708Z",
     "start_time": "2024-09-30T22:54:38.370914Z"
    }
   },
   "outputs": [],
   "source": [
    "shots_and_goals_df.shape\n"
   ]
  },
  {
   "cell_type": "code",
   "execution_count": null,
   "id": "c54a543c-4eb0-4a5e-a413-ba78e826ea8c",
   "metadata": {
    "ExecuteTime": {
     "end_time": "2024-09-30T22:55:07.158249Z",
     "start_time": "2024-09-30T22:55:07.142833Z"
    }
   },
   "outputs": [],
   "source": []
  },
  {
   "cell_type": "code",
   "execution_count": null,
   "id": "abe96b7da50d34e2",
   "metadata": {},
   "outputs": [],
   "source": []
  }
 ],
 "metadata": {
  "kernelspec": {
   "display_name": "Python 3 (ipykernel)",
   "language": "python",
   "name": "python3"
  },
  "language_info": {
   "codemirror_mode": {
    "name": "ipython",
    "version": 3
   },
   "file_extension": ".py",
   "mimetype": "text/x-python",
   "name": "python",
   "nbconvert_exporter": "python",
   "pygments_lexer": "ipython3",
   "version": "3.12.6"
  }
 },
 "nbformat": 4,
 "nbformat_minor": 5
}
