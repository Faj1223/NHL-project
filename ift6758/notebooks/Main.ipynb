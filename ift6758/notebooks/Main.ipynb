{
 "cells": [
  {
   "cell_type": "markdown",
   "id": "ed072f5ade601bd1",
   "metadata": {},
   "source": [
    "Solutions: IFT6758 - Project milestone 1"
   ]
  },
  {
   "cell_type": "markdown",
   "id": "3d845ffa7762c30d",
   "metadata": {},
   "source": [
    "1. Download the play-by-play data for the 2016-2017 season."
   ]
  },
  {
   "cell_type": "code",
   "execution_count": null,
   "id": "initial_id",
   "metadata": {
    "ExecuteTime": {
     "end_time": "2024-10-02T22:56:11.777257Z",
     "start_time": "2024-10-02T22:56:11.192786Z"
    }
   },
   "outputs": [],
   "source": [
    "import ift6758\n",
    "import sys\n",
    "import importlib\n",
    "from multiprocessing.util import debug\n",
    "\n",
    "sys.path.append('../..')\n",
    "from ift6758.controller.nhl_data_downloader import NHLDataDownloader\n",
    "#import controller.nhl_data_downloader\n",
    "\n",
    "importlib.reload(ift6758.controller.nhl_data_downloader)\n",
    "#from controller.nhl_data_downloader import NHLDataDownloader\n",
    "\n",
    "\n"
   ]
  },
  {
   "cell_type": "code",
   "execution_count": null,
   "id": "b07ecee74db539f6",
   "metadata": {
    "ExecuteTime": {
     "end_time": "2024-10-02T00:05:41.401695Z",
     "start_time": "2024-10-02T00:05:41.398339Z"
    }
   },
   "outputs": [],
   "source": [
    "downloader = NHLDataDownloader()\n",
    "print(downloader.data_dir)"
   ]
  },
  {
   "cell_type": "code",
   "execution_count": null,
   "id": "17a74864f61fb916",
   "metadata": {
    "ExecuteTime": {
     "end_time": "2024-10-02T00:05:44.284642Z",
     "start_time": "2024-10-02T00:05:43.787180Z"
    }
   },
   "outputs": [],
   "source": [
    "#downloader.download_all_seasons_play_by_play(2016,2023)\n",
    "downloader.download_regular_season(2016, 5)"
   ]
  },
  {
   "cell_type": "markdown",
   "id": "291274e32813a81",
   "metadata": {},
   "source": [
    "2. Interactive debug ipywidget to explore the data."
   ]
  },
  {
   "cell_type": "code",
   "execution_count": null,
   "id": "7a871df9536ee66b",
   "metadata": {
    "ExecuteTime": {
     "end_time": "2024-10-02T00:41:30.836714Z",
     "start_time": "2024-10-02T00:41:30.821287Z"
    }
   },
   "outputs": [],
   "source": [
    "import ipywidgets as widgets\n",
    "from IPython.display import display, Markdown\n",
    "import matplotlib.pyplot as plt\n",
    "import matplotlib.image as mpimg\n",
    "import json\n",
    "import os"
   ]
  },
  {
   "cell_type": "code",
   "execution_count": null,
   "id": "9b24bac77d809be6",
   "metadata": {
    "ExecuteTime": {
     "end_time": "2024-10-02T01:14:50.045240Z",
     "start_time": "2024-10-02T01:14:49.907414Z"
    }
   },
   "outputs": [],
   "source": [
    "\n",
    "downloader = NHLDataDownloader()\n",
    "# Global data storage\n",
    "all_games = {}\n",
    "filtered_events = []  # Store filtered events globally\n",
    "\n",
    "# Widgets to select season, season type, game ID, and event ID\n",
    "season = widgets.Dropdown(options=[str(year) for year in range(2016, 2024)], description='Season')\n",
    "season_type = widgets.Dropdown(options=['Regular Season', 'Playoffs'], description='Season Type')\n",
    "game_slider = widgets.IntSlider(min=0, description='Game ID')\n",
    "event_slider = widgets.IntSlider(min=0, description='Event ID')\n",
    "\n",
    "# Widget to display the rink image and event info\n",
    "rink_image_output = widgets.Output()\n",
    "event_info_output = widgets.Output()\n",
    "game_info_output = widgets.Output()\n",
    "\n",
    "# Function to plot event coordinates on the rink image\n",
    "def plot_event_on_rink(x, y, event, home_abbrev, away_abbrev):\n",
    "    current_dir = os.getcwd()\n",
    "    rink_img_path = os.path.join(current_dir,'..', 'data', 'Images', 'nhl_rink.png')\n",
    "    rink_img_path = os.path.normpath(rink_img_path)  # Normalize the path to avoid issues with '..'correct path for the rink image\n",
    "    rink_img = mpimg.imread(rink_img_path)\n",
    "    \n",
    "    # Get event details for the title\n",
    "    event_desc = event.get(\"typeDescKey\", \"Unknown Event\")\n",
    "    event_time = event.get(\"timeInPeriod\", \"Unknown Time\")\n",
    "    period_number = event.get(\"periodDescriptor\", {}).get(\"number\", \"Unknown Period\")\n",
    "\n",
    "    # Construct the title string (similar to the example picture)\n",
    "    title = f\"{event_desc}\\n{event_time} P-{period_number}\"\n",
    "\n",
    "    with rink_image_output:\n",
    "        rink_image_output.clear_output()  # Clear the previous plot\n",
    "        fig, ax = plt.subplots(figsize=(6, 6))\n",
    "        ax.imshow(rink_img, extent=[-100, 100, -42.5, 42.5])\n",
    "        if x is not None and y is not None:\n",
    "            ax.scatter(x, y, color='blue', label=\"Event location\")\n",
    "            ax.legend()\n",
    "        ax.set_title(title)\n",
    "        ax.text(-90, 45, away_abbrev, fontsize=12, ha='center', va='center')  # Away team on the left\n",
    "        ax.text(90, 45, home_abbrev, fontsize=12, ha='center', va='center')  # Home team on the right\n",
    "        plt.show()\n",
    "\n",
    "# Function to format and return game information\n",
    "def get_game_info(game_data):\n",
    "    \n",
    "    game_start_time = game_data.get(\"startTimeUTC\", \"Unknown Date\")\n",
    "    home_abbrev = game_data.get(\"homeTeam\", {}).get(\"abbrev\", \"Unknown Home Abbrev\")\n",
    "    away_abbrev = game_data.get(\"awayTeam\", {}).get(\"abbrev\", \"Unknown Away Abbrev\")\n",
    "    home_name = game_data.get(\"homeTeam\", {}).get(\"name\").get(\"default\", \"Unknown Home Name\")\n",
    "    away_name = game_data.get(\"awayTeam\", {}).get(\"name\").get(\"default\", \"Unknown Home Name\")\n",
    "    home_id = game_data.get(\"homeTeam\", {}).get(\"id\", 0)\n",
    "    away_id = game_data.get(\"awayTeam\", {}).get(\"id\", 0)\n",
    "    home_goals = game_data.get(\"homeTeam\", {}).get(\"score\", 0)\n",
    "    away_goals = game_data.get(\"awayTeam\", {}).get(\"score\", 0)\n",
    "    home_sog = game_data.get(\"homeTeam\", {}).get(\"sog\", 0)\n",
    "    away_sog = game_data.get(\"awayTeam\", {}).get(\"sog\", 0)\n",
    "\n",
    "    # Format the game state (period, overtime, etc.)\n",
    "    game_period = game_data.get(\"periodDescriptor\", {}).get(\"periodType\", \"Unknown\")\n",
    "    \n",
    "    # Pretty display of game info\n",
    "    game_info = f\"\"\"\n",
    "    {game_start_time}\n",
    "    Game ID: {game_data.get('id', 'Unknown')}; {home_abbrev} (home) vs {away_abbrev} (away)\n",
    "\n",
    "    {game_period}\n",
    "\n",
    "    {'':<15}{'Home'.ljust(20)}{'Away'.ljust(20)}\n",
    "    {'Teams:'.ljust(15)}{home_name.ljust(20)}{away_name.ljust(20)}\n",
    "    {'Team ID:'.ljust(15)}{str(home_id).ljust(20)}{str(away_id).ljust(20)}\n",
    "    {'Goals:'.ljust(15)}{str(home_goals).ljust(20)}{str(away_goals).ljust(20)}\n",
    "    {'SoG:'.ljust(15)}{str(home_sog).ljust(20)}{str(away_sog).ljust(20)}\n",
    "    \"\"\"\n",
    "    # Output game info in Markdown for better formatting\n",
    "    with game_info_output:\n",
    "        game_info_output.clear_output(wait=True)\n",
    "        display(Markdown(f\"{game_info}\"))\n",
    "    return home_abbrev, away_abbrev\n",
    "\n",
    "# Function to display event details in JSON format\n",
    "def get_event_info(event):\n",
    "    event_info_json = json.dumps(event, indent=4)\n",
    "    with event_info_output:\n",
    "        event_info_output.clear_output(wait=True)\n",
    "        display(Markdown(f\"```json\\n{event_info_json}\\n```\"))\n",
    "\n",
    "# Download data based on season and season type\n",
    "def on_season_or_type_change(change):\n",
    "    global all_games\n",
    "    selected_season = int(season.value)  # Get the selected season\n",
    "    season_type_value = season_type.value\n",
    "\n",
    "    # Download data based on season and type\n",
    "    if season_type_value == 'Regular Season':\n",
    "        all_games = downloader.download_regular_season(selected_season)\n",
    "    else:\n",
    "        all_games = downloader.download_playoffs(selected_season)\n",
    "\n",
    "    # Ensure that all_games is not empty before proceeding\n",
    "    if len(all_games) > 0:\n",
    "        # Convert keys to a list and update the slider max value\n",
    "        game_slider.max = len(all_games) - 1\n",
    "        update_game_plot(0)\n",
    "        update_event_plot(0, 0)\n",
    "\n",
    "# Observe changes in season and season type dropdown\n",
    "season.observe(on_season_or_type_change, names='value')\n",
    "season_type.observe(on_season_or_type_change, names='value')\n",
    "\n",
    "# Update plot based on game ID and event ID\n",
    "def update_event_plot(game_index, event_index, home_abbrev=None, away_abbrev=None):\n",
    "    global filtered_events\n",
    "\n",
    "    if len(filtered_events) > 0 and event_index < len(filtered_events):\n",
    "        event = filtered_events[event_index]\n",
    "        x = event.get(\"details\", {}).get(\"xCoord\", None)\n",
    "        y = event.get(\"details\", {}).get(\"yCoord\", None)\n",
    "        if x is not None and y is not None:\n",
    "            plot_event_on_rink(x, y, event, home_abbrev, away_abbrev)\n",
    "        get_event_info(event)  # Display event info after the image\n",
    "\n",
    "# Update plot based on game ID and show game information\n",
    "def update_game_plot(game_index):\n",
    "    global all_games, filtered_events\n",
    "    game_ids = list(all_games.keys())\n",
    "    if game_index < len(game_ids):\n",
    "        game_id = game_ids[game_index]\n",
    "        game_data = all_games.get(game_id, {})\n",
    "        home_abbrev, away_abbrev = get_game_info(game_data)  # Update game info text\n",
    "        \n",
    "        # Filter events with typeDescKey \"shot-on-goal\" or \"goal\"\n",
    "        filtered_events = [e for e in game_data.get(\"plays\", []) if e.get(\"typeDescKey\") in [\"shot-on-goal\", \"goal\"]]\n",
    "        \n",
    "        # Update the event slider max value to match the number of filtered events\n",
    "        event_slider.max = len(filtered_events) - 1  # Update event slider based on filtered events\n",
    "        # Reset the event_slider to 0\n",
    "        event_slider.value = 0\n",
    "        update_event_plot(game_index, 0, home_abbrev, away_abbrev)  # Update the plot based on the first event\n",
    "\n",
    "def on_game_change(change):\n",
    "    game_index = change['new']\n",
    "    update_game_plot(game_index)\n",
    "    update_event_plot(0, 0)\n",
    "\n",
    "game_slider.observe(on_game_change, names='value')\n",
    "\n",
    "# Update plot based on event ID\n",
    "def on_event_change(change):\n",
    "    game_index = game_slider.value\n",
    "    event_index = change['new']\n",
    "    # Get the current game data\n",
    "    game_ids = list(all_games.keys())\n",
    "    if game_index < len(game_ids):\n",
    "        game_id = game_ids[game_index]\n",
    "        game_data = all_games.get(game_id, {})\n",
    "        home_abbrev = game_data.get(\"homeTeam\", {}).get(\"abbrev\", \"Unknown Home Abbrev\")\n",
    "        away_abbrev = game_data.get(\"awayTeam\", {}).get(\"abbrev\", \"Unknown Away Abbrev\")\n",
    "        update_event_plot(game_index, event_index, home_abbrev, away_abbrev)\n",
    "\n",
    "event_slider.observe(on_event_change, names='value')\n",
    "\n",
    "# Layout organization\n",
    "layout = widgets.VBox([\n",
    "    season, \n",
    "    season_type,\n",
    "    game_slider,\n",
    "    game_info_output,  # Insert game info between the game and event sliders\n",
    "    event_slider,\n",
    "    rink_image_output,  # Rink image after the event slider\n",
    "    event_info_output  # Event info after the rink image\n",
    "])\n",
    "\n",
    "# Display the organized layout\n",
    "display(layout)\n",
    "\n",
    "# Initialize plot\n",
    "update_event_plot(0, 0)"
   ]
  },
  {
   "cell_type": "markdown",
   "id": "e61fc7ea0fa4d6db",
   "metadata": {},
   "source": [
    "3. Data cleaning"
   ]
  },
  {
   "cell_type": "code",
   "execution_count": null,
   "id": "cd19e117b9e03148",
   "metadata": {
    "ExecuteTime": {
     "end_time": "2024-10-02T22:56:17.839796Z",
     "start_time": "2024-10-02T22:56:17.793719Z"
    }
   },
   "outputs": [],
   "source": [
    "game_id = \"2016020002\"\n",
    "downloader = NHLDataDownloader()\n",
    "shots_and_goals_df = downloader.extract_shots_and_goals_for_game(game_id)\n",
    "print(shots_and_goals_df.head())"
   ]
  },
  {
   "cell_type": "code",
   "execution_count": null,
   "id": "5744cdfe-fea7-4f16-a343-c57043594858",
   "metadata": {
    "ExecuteTime": {
     "end_time": "2024-09-30T22:54:38.375708Z",
     "start_time": "2024-09-30T22:54:38.370914Z"
    }
   },
   "outputs": [],
   "source": []
  },
  {
   "cell_type": "code",
   "execution_count": null,
   "id": "c54a543c-4eb0-4a5e-a413-ba78e826ea8c",
   "metadata": {
    "ExecuteTime": {
     "end_time": "2024-09-30T22:55:07.158249Z",
     "start_time": "2024-09-30T22:55:07.142833Z"
    }
   },
   "outputs": [],
   "source": []
  },
  {
   "cell_type": "code",
   "execution_count": null,
   "id": "abe96b7da50d34e2",
   "metadata": {},
   "outputs": [],
   "source": []
  }
 ],
 "metadata": {
  "kernelspec": {
   "display_name": "Python 3 (ipykernel)",
   "language": "python",
   "name": "python3"
  },
  "language_info": {
   "codemirror_mode": {
    "name": "ipython",
    "version": 3
   },
   "file_extension": ".py",
   "mimetype": "text/x-python",
   "name": "python",
   "nbconvert_exporter": "python",
   "pygments_lexer": "ipython3",
   "version": "3.12.6"
  }
 },
 "nbformat": 4,
 "nbformat_minor": 5
}
