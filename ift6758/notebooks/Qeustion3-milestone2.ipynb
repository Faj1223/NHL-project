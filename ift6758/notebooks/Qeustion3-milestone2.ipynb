{
 "cells": [
  {
   "metadata": {
    "ExecuteTime": {
     "end_time": "2024-11-22T04:24:43.217921Z",
     "start_time": "2024-11-22T04:24:41.285841Z"
    }
   },
   "cell_type": "code",
   "source": [
    "import os\n",
    "import sys\n",
    "\n",
    "if os.path.join(os.path.dirname(os.getcwd()), \"controller\") not in sys.path:\n",
    "    sys.path.append(os.path.join(os.path.dirname(os.getcwd()), \"controller\"))\n",
    "from nhl_data_downloader import NHLDataDownloader\n",
    "from nhl_data_loader import NHLDataLoader\n",
    "\n",
    "loader = NHLDataLoader()\n",
    "downloader = NHLDataDownloader()"
   ],
   "id": "55e8bc42ff5a035d",
   "outputs": [],
   "execution_count": 1
  },
  {
   "metadata": {
    "ExecuteTime": {
     "end_time": "2024-11-22T04:25:30.757402Z",
     "start_time": "2024-11-22T04:25:06.481172Z"
    }
   },
   "cell_type": "code",
   "source": [
    "#will download all seasons from 2016 to 2019\n",
    "train_val_df = loader.load_csv_files([2016,2017,2018,2019])\n",
    "print(train_val_df.head())"
   ],
   "id": "12f600f0a242cae8",
   "outputs": [
    {
     "name": "stdout",
     "output_type": "stream",
     "text": [
      "      game_id   game_date  home_team_id  period time_in_period  event_id  \\\n",
      "0  2016020001  2016-10-12             9       1          00:00         5   \n",
      "1  2016020001  2016-10-12             9       1          00:00         6   \n",
      "2  2016020001  2016-10-12             9       1          00:05        51   \n",
      "3  2016020001  2016-10-12             9       1          00:05         7   \n",
      "4  2016020001  2016-10-12             9       1          00:43       201   \n",
      "\n",
      "     event_type  is_goal shot_type  x_coord  ...  last_x_coord  last_y_coord  \\\n",
      "0  period-start    False   Unknown      NaN  ...       unknown       unknown   \n",
      "1       faceoff    False   Unknown      0.0  ...       unknown       unknown   \n",
      "2      stoppage    False   Unknown      NaN  ...       unknown       unknown   \n",
      "3       faceoff    False   Unknown     69.0  ...       unknown       unknown   \n",
      "4      takeaway    False   Unknown    -81.0  ...       unknown       unknown   \n",
      "\n",
      "  time_since_last_event distance_from_last_event  rebound  \\\n",
      "0                   NaN                      NaN    False   \n",
      "1                   NaN                      NaN    False   \n",
      "2                   NaN                      NaN    False   \n",
      "3                   NaN                      NaN    False   \n",
      "4                   NaN                      NaN    False   \n",
      "\n",
      "  home_team_defending_side shooting_distance  shot_angle rebound_angle  \\\n",
      "0                     left               NaN         NaN           NaN   \n",
      "1                     left               NaN         NaN           NaN   \n",
      "2                     left               NaN         NaN           NaN   \n",
      "3                     left               NaN         NaN           NaN   \n",
      "4                     left               NaN         NaN           NaN   \n",
      "\n",
      "  speed_from_last_event  \n",
      "0                   NaN  \n",
      "1                   NaN  \n",
      "2                   NaN  \n",
      "3                   NaN  \n",
      "4                   NaN  \n",
      "\n",
      "[5 rows x 31 columns]\n"
     ]
    }
   ],
   "execution_count": 2
  },
  {
   "metadata": {
    "collapsed": true,
    "ExecuteTime": {
     "end_time": "2024-11-22T04:25:47.575809Z",
     "start_time": "2024-11-22T04:25:41.504875Z"
    }
   },
   "cell_type": "code",
   "source": [
    "\n",
    "import logistic_model_analyzer\n",
    "import importlib\n",
    "importlib.reload(logistic_model_analyzer)\n",
    "from logistic_model_analyzer import LogisticModelAnalyzer\n",
    "\n",
    "analyzer = LogisticModelAnalyzer(train_val_df)\n",
    "analyzer.run_analysis(features=[\"shooting_distance\"])\n"
   ],
   "id": "initial_id",
   "outputs": [
    {
     "name": "stdout",
     "output_type": "stream",
     "text": [
      "Filtering data...\n",
      "Preparing data...\n",
      "Preparing data with features: ['shooting_distance']...\n",
      "Training set size: 261860\n",
      "Data prepared:\n",
      " - Training samples: 261860\n",
      " - Validation samples: 65465\n",
      "Training model...\n",
      "1155309    False\n",
      "926331     False\n",
      "528178     False\n",
      "121079     False\n",
      "777920     False\n",
      "           ...  \n",
      "416502     False\n",
      "1499924    False\n",
      "259485     False\n",
      "821774     False\n",
      "28181      False\n",
      "Name: is_goal, Length: 261860, dtype: bool\n",
      "Evaluating model...\n",
      "Validation Accuracy: 0.91\n",
      "\n",
      "Plotting confusion matrix...\n"
     ]
    },
    {
     "data": {
      "text/plain": [
       "<IPython.core.display.HTML object>"
      ],
      "text/html": [
       "Finishing last run (ID:Evaluation_LogisticModelAnalyzer_model_11_24_22-141414) before initializing another..."
      ]
     },
     "metadata": {},
     "output_type": "display_data"
    },
    {
     "data": {
      "text/plain": [
       "<IPython.core.display.HTML object>"
      ],
      "text/html": [
       "\n",
       "    <style>\n",
       "        .wandb-row {\n",
       "            display: flex;\n",
       "            flex-direction: row;\n",
       "            flex-wrap: wrap;\n",
       "            justify-content: flex-start;\n",
       "            width: 100%;\n",
       "        }\n",
       "        .wandb-col {\n",
       "            display: flex;\n",
       "            flex-direction: column;\n",
       "            flex-basis: 100%;\n",
       "            flex: 1;\n",
       "            padding: 10px;\n",
       "        }\n",
       "    </style>\n",
       "<div class=\"wandb-row\"><div class=\"wandb-col\"><h3>Run history:</h3><br/><table class=\"wandb\"><tr><td>AUC</td><td>█▁█▁</td></tr><tr><td>Log Loss</td><td>▁▁▁█</td></tr></table><br/></div><div class=\"wandb-col\"><h3>Run summary:</h3><br/><table class=\"wandb\"><tr><td>AUC</td><td>0.501</td></tr><tr><td>Log Loss</td><td>1.0062</td></tr></table><br/></div></div>"
      ]
     },
     "metadata": {},
     "output_type": "display_data"
    },
    {
     "data": {
      "text/plain": [
       "<IPython.core.display.HTML object>"
      ],
      "text/html": [
       " View run <strong style=\"color:#cdcd00\">Evaluation_LogisticModelAnalyzer_model_11_24_22-141414</strong> at: <a href='https://wandb.ai/toma-allary-universit-de-montr-al/IFT6758.2024-A09/runs/Evaluation_LogisticModelAnalyzer_model_11_24_22-141414' target=\"_blank\">https://wandb.ai/toma-allary-universit-de-montr-al/IFT6758.2024-A09/runs/Evaluation_LogisticModelAnalyzer_model_11_24_22-141414</a><br/> View project at: <a href='https://wandb.ai/toma-allary-universit-de-montr-al/IFT6758.2024-A09' target=\"_blank\">https://wandb.ai/toma-allary-universit-de-montr-al/IFT6758.2024-A09</a><br/>Synced 5 W&B file(s), 0 media file(s), 2 artifact file(s) and 2 other file(s)"
      ]
     },
     "metadata": {},
     "output_type": "display_data"
    },
    {
     "data": {
      "text/plain": [
       "<IPython.core.display.HTML object>"
      ],
      "text/html": [
       "Find logs at: <code>.\\wandb\\run-20241122_141026-Evaluation_LogisticModelAnalyzer_model_11_24_22-141414\\logs</code>"
      ]
     },
     "metadata": {},
     "output_type": "display_data"
    },
    {
     "data": {
      "text/plain": [
       "<IPython.core.display.HTML object>"
      ],
      "text/html": [
       "Successfully finished last run (ID:Evaluation_LogisticModelAnalyzer_model_11_24_22-141414). Initializing new run:<br/>"
      ]
     },
     "metadata": {},
     "output_type": "display_data"
    },
    {
     "data": {
      "text/plain": [
       "<IPython.core.display.HTML object>"
      ],
      "text/html": [
       "Tracking run with wandb version 0.18.7"
      ]
     },
     "metadata": {},
     "output_type": "display_data"
    },
    {
     "data": {
      "text/plain": [
       "<IPython.core.display.HTML object>"
      ],
      "text/html": [
       "Run data is saved locally in <code>C:\\Users\\Matt\\Documents\\DATA_SCIENCE\\Projet_final\\ift6758-project-milestone2\\ift6758\\notebooks\\wandb\\run-20241122_141436-k14a0wq8</code>"
      ]
     },
     "metadata": {},
     "output_type": "display_data"
    },
    {
     "data": {
      "text/plain": [
       "<IPython.core.display.HTML object>"
      ],
      "text/html": [
       "Syncing run <strong><a href='https://wandb.ai/toma-allary-universit-de-montr-al/IFT6758.2024-A09/runs/k14a0wq8' target=\"_blank\">driven-vortex-257</a></strong> to <a href='https://wandb.ai/toma-allary-universit-de-montr-al/IFT6758.2024-A09' target=\"_blank\">Weights & Biases</a> (<a href='https://wandb.me/developer-guide' target=\"_blank\">docs</a>)<br/>"
      ]
     },
     "metadata": {},
     "output_type": "display_data"
    },
    {
     "data": {
      "text/plain": [
       "<IPython.core.display.HTML object>"
      ],
      "text/html": [
       " View project at <a href='https://wandb.ai/toma-allary-universit-de-montr-al/IFT6758.2024-A09' target=\"_blank\">https://wandb.ai/toma-allary-universit-de-montr-al/IFT6758.2024-A09</a>"
      ]
     },
     "metadata": {},
     "output_type": "display_data"
    },
    {
     "data": {
      "text/plain": [
       "<IPython.core.display.HTML object>"
      ],
      "text/html": [
       " View run at <a href='https://wandb.ai/toma-allary-universit-de-montr-al/IFT6758.2024-A09/runs/k14a0wq8' target=\"_blank\">https://wandb.ai/toma-allary-universit-de-montr-al/IFT6758.2024-A09/runs/k14a0wq8</a>"
      ]
     },
     "metadata": {},
     "output_type": "display_data"
    },
    {
     "data": {
      "text/plain": [
       "<IPython.core.display.HTML object>"
      ],
      "text/html": [
       " View run <strong style=\"color:#cdcd00\">driven-vortex-257</strong> at: <a href='https://wandb.ai/toma-allary-universit-de-montr-al/IFT6758.2024-A09/runs/k14a0wq8' target=\"_blank\">https://wandb.ai/toma-allary-universit-de-montr-al/IFT6758.2024-A09/runs/k14a0wq8</a><br/> View project at: <a href='https://wandb.ai/toma-allary-universit-de-montr-al/IFT6758.2024-A09' target=\"_blank\">https://wandb.ai/toma-allary-universit-de-montr-al/IFT6758.2024-A09</a><br/>Synced 5 W&B file(s), 0 media file(s), 2 artifact file(s) and 1 other file(s)"
      ]
     },
     "metadata": {},
     "output_type": "display_data"
    },
    {
     "data": {
      "text/plain": [
       "<IPython.core.display.HTML object>"
      ],
      "text/html": [
       "Find logs at: <code>.\\wandb\\run-20241122_141436-k14a0wq8\\logs</code>"
      ]
     },
     "metadata": {},
     "output_type": "display_data"
    }
   ],
   "execution_count": 43
  },
  {
   "metadata": {
    "ExecuteTime": {
     "end_time": "2024-11-22T04:13:19.136287Z",
     "start_time": "2024-11-22T04:13:17.393992Z"
    }
   },
   "cell_type": "code",
   "source": "analyzer.run_analysis(features=[\"shooting_distance\"],apply_smote=True)",
   "id": "3f323d8aa3793a7c",
   "outputs": [
    {
     "name": "stdout",
     "output_type": "stream",
     "text": [
      "Filtering data...\n",
      "Preparing data...\n",
      "Preparing data with features: ['shooting_distance']...\n",
      "Training set size: 261860\n",
      "Data prepared:\n",
      " - Training samples: 261860\n",
      " - Validation samples: 65465\n",
      "Applying SMOTE to oversample minority class...\n",
      "SMOTE applied. Training data balanced: 474202 samples.\n",
      "Training model...\n",
      "0         False\n",
      "1         False\n",
      "2         False\n",
      "3         False\n",
      "4         False\n",
      "          ...  \n",
      "474197     True\n",
      "474198     True\n",
      "474199     True\n",
      "474200     True\n",
      "474201     True\n",
      "Name: is_goal, Length: 474202, dtype: bool\n",
      "Evaluating model...\n",
      "Validation Accuracy: 0.55\n",
      "\n",
      "Plotting confusion matrix...\n"
     ]
    }
   ],
   "execution_count": 48
  },
  {
   "metadata": {
    "ExecuteTime": {
     "end_time": "2024-11-22T04:26:25.388322Z",
     "start_time": "2024-11-22T04:26:12.822989Z"
    }
   },
   "cell_type": "code",
   "source": [
    "import wandb\n",
    "import os\n",
    "os.environ['WANDB_INIT_TIMEOUT'] = '600'\n",
    "\n",
    "my_key = os.environ.get('WANDB_API_KEY')\n",
    "wandb.login(key=my_key, force=True)\n",
    "\n",
    "analyzer.evaluate_multiple_models()\n"
   ],
   "id": "30bf9d777760e73b",
   "outputs": [
    {
     "name": "stderr",
     "output_type": "stream",
     "text": [
      "wandb: Using wandb-core as the SDK backend.  Please refer to https://wandb.me/wandb-core for more information.\n",
      "wandb: Currently logged in as: toma-allary (toma-allary-universit-de-montr-al). Use `wandb login --relogin` to force relogin\n"
     ]
    },
    {
     "data": {
      "text/plain": [
       "<IPython.core.display.HTML object>"
      ],
      "text/html": [
       "Tracking run with wandb version 0.18.7"
      ]
     },
     "metadata": {},
     "output_type": "display_data"
    },
    {
     "data": {
      "text/plain": [
       "<IPython.core.display.HTML object>"
      ],
      "text/html": [
       "Run data is saved locally in <code>C:\\Users\\Matt\\Documents\\DATA_SCIENCE\\Projet_final\\ift6758-project-milestone2\\ift6758\\notebooks\\wandb\\run-20241122_141445-zep1vuch</code>"
      ]
     },
     "metadata": {},
     "output_type": "display_data"
    },
    {
     "data": {
      "text/plain": [
       "<IPython.core.display.HTML object>"
      ],
      "text/html": [
       "Syncing run <strong><a href='https://wandb.ai/toma-allary-universit-de-montr-al/IFT6758.2024-A09/runs/zep1vuch' target=\"_blank\">true-firefly-258</a></strong> to <a href='https://wandb.ai/toma-allary-universit-de-montr-al/IFT6758.2024-A09' target=\"_blank\">Weights & Biases</a> (<a href='https://wandb.me/developer-guide' target=\"_blank\">docs</a>)<br/>"
      ]
     },
     "metadata": {},
     "output_type": "display_data"
    },
    {
     "data": {
      "text/plain": [
       "<IPython.core.display.HTML object>"
      ],
      "text/html": [
       " View project at <a href='https://wandb.ai/toma-allary-universit-de-montr-al/IFT6758.2024-A09' target=\"_blank\">https://wandb.ai/toma-allary-universit-de-montr-al/IFT6758.2024-A09</a>"
      ]
     },
     "metadata": {},
     "output_type": "display_data"
    },
    {
     "data": {
      "text/plain": [
       "<IPython.core.display.HTML object>"
      ],
      "text/html": [
       " View run at <a href='https://wandb.ai/toma-allary-universit-de-montr-al/IFT6758.2024-A09/runs/zep1vuch' target=\"_blank\">https://wandb.ai/toma-allary-universit-de-montr-al/IFT6758.2024-A09/runs/zep1vuch</a>"
      ]
     },
     "metadata": {},
     "output_type": "display_data"
    },
    {
     "data": {
      "text/plain": [
       "<IPython.core.display.HTML object>"
      ],
      "text/html": [
       " View run <strong style=\"color:#cdcd00\">true-firefly-258</strong> at: <a href='https://wandb.ai/toma-allary-universit-de-montr-al/IFT6758.2024-A09/runs/zep1vuch' target=\"_blank\">https://wandb.ai/toma-allary-universit-de-montr-al/IFT6758.2024-A09/runs/zep1vuch</a><br/> View project at: <a href='https://wandb.ai/toma-allary-universit-de-montr-al/IFT6758.2024-A09' target=\"_blank\">https://wandb.ai/toma-allary-universit-de-montr-al/IFT6758.2024-A09</a><br/>Synced 5 W&B file(s), 0 media file(s), 2 artifact file(s) and 1 other file(s)"
      ]
     },
     "metadata": {},
     "output_type": "display_data"
    },
    {
     "data": {
      "text/plain": [
       "<IPython.core.display.HTML object>"
      ],
      "text/html": [
       "Find logs at: <code>.\\wandb\\run-20241122_141445-zep1vuch\\logs</code>"
      ]
     },
     "metadata": {},
     "output_type": "display_data"
    }
   ],
   "execution_count": 44
  },
  {
   "metadata": {
    "ExecuteTime": {
     "end_time": "2024-11-22T19:14:58.659303Z",
     "start_time": "2024-11-22T19:14:50.604832Z"
    }
   },
   "cell_type": "code",
   "source": "analyzer.evaluate_multiple_models()\n",
   "id": "30bf9d777760e73b",
   "outputs": [
    {
     "data": {
      "text/plain": [
       "<IPython.core.display.HTML object>"
      ],
      "text/html": [
       "Tracking run with wandb version 0.18.7"
      ]
     },
     "metadata": {},
     "output_type": "display_data"
    },
    {
     "data": {
      "text/plain": [
       "<IPython.core.display.HTML object>"
      ],
      "text/html": [
       "Run data is saved locally in <code>C:\\Users\\Matt\\Documents\\DATA_SCIENCE\\Projet_final\\ift6758-project-milestone2\\ift6758\\notebooks\\wandb\\run-20241122_141450-Evaluation_LogisticModelAnalyzer_model_11_24_22-141435</code>"
      ]
     },
     "metadata": {},
     "output_type": "display_data"
    },
    {
     "data": {
      "text/plain": [
       "<IPython.core.display.HTML object>"
      ],
      "text/html": [
       "Syncing run <strong><a href='https://wandb.ai/toma-allary-universit-de-montr-al/IFT6758.2024-A09/runs/Evaluation_LogisticModelAnalyzer_model_11_24_22-141435' target=\"_blank\">Evaluation_LogisticModelAnalyzer_model_11_24_22-141435</a></strong> to <a href='https://wandb.ai/toma-allary-universit-de-montr-al/IFT6758.2024-A09' target=\"_blank\">Weights & Biases</a> (<a href='https://wandb.me/developer-guide' target=\"_blank\">docs</a>)<br/>"
      ]
     },
     "metadata": {},
     "output_type": "display_data"
    },
    {
     "data": {
      "text/plain": [
       "<IPython.core.display.HTML object>"
      ],
      "text/html": [
       " View project at <a href='https://wandb.ai/toma-allary-universit-de-montr-al/IFT6758.2024-A09' target=\"_blank\">https://wandb.ai/toma-allary-universit-de-montr-al/IFT6758.2024-A09</a>"
      ]
     },
     "metadata": {},
     "output_type": "display_data"
    },
    {
     "data": {
      "text/plain": [
       "<IPython.core.display.HTML object>"
      ],
      "text/html": [
       " View run at <a href='https://wandb.ai/toma-allary-universit-de-montr-al/IFT6758.2024-A09/runs/Evaluation_LogisticModelAnalyzer_model_11_24_22-141435' target=\"_blank\">https://wandb.ai/toma-allary-universit-de-montr-al/IFT6758.2024-A09/runs/Evaluation_LogisticModelAnalyzer_model_11_24_22-141435</a>"
      ]
     },
     "metadata": {},
     "output_type": "display_data"
    },
    {
     "name": "stdout",
     "output_type": "stream",
     "text": [
      "Training Distance Only model...\n",
      "Preparing data with features: ['shooting_distance']...\n",
      "Training set size: 261860\n",
      "Data prepared:\n",
      " - Training samples: 261860\n",
      " - Validation samples: 65465\n",
      "Logging metrics: AUC=0.6719791076861982, Log Loss=0.30546528292590275\n",
      "Training Angle Only model...\n",
      "Preparing data with features: ['shot_angle']...\n",
      "Data prepared:\n",
      " - Training samples: 261860\n",
      " - Validation samples: 65465\n",
      "Logging metrics: AUC=0.49837933946239266, Log Loss=0.31278361860987236\n",
      "Training Distance and Angle model...\n",
      "Preparing data with features: ['shooting_distance', 'shot_angle']...\n",
      "Data prepared:\n",
      " - Training samples: 261860\n",
      " - Validation samples: 65465\n",
      "Logging metrics: AUC=0.6719678611677506, Log Loss=0.30546545214659176\n",
      "Generating random probabilities for Random Baseline...\n",
      "Logging metrics: AUC=0.5020019375595259, Log Loss=0.9938682850478957\n",
      "--ROC Curve sent to WANDB\n",
      "--goal rate by percentile sent to WANDB\n",
      "--cumulative goals by percentile sent to WANDB\n",
      "--reliability diagram sent to WANDB\n"
     ]
    },
    {
     "data": {
      "text/plain": [
       "<IPython.core.display.HTML object>"
      ],
      "text/html": [
       "\n",
       "    <style>\n",
       "        .wandb-row {\n",
       "            display: flex;\n",
       "            flex-direction: row;\n",
       "            flex-wrap: wrap;\n",
       "            justify-content: flex-start;\n",
       "            width: 100%;\n",
       "        }\n",
       "        .wandb-col {\n",
       "            display: flex;\n",
       "            flex-direction: column;\n",
       "            flex-basis: 100%;\n",
       "            flex: 1;\n",
       "            padding: 10px;\n",
       "        }\n",
       "    </style>\n",
       "<div class=\"wandb-row\"><div class=\"wandb-col\"><h3>Run history:</h3><br/><table class=\"wandb\"><tr><td>AUC</td><td>█▁█▁</td></tr><tr><td>Log Loss</td><td>▁▁▁█</td></tr></table><br/></div><div class=\"wandb-col\"><h3>Run summary:</h3><br/><table class=\"wandb\"><tr><td>AUC</td><td>0.502</td></tr><tr><td>Log Loss</td><td>0.99387</td></tr></table><br/></div></div>"
      ]
     },
     "metadata": {},
     "output_type": "display_data"
    },
    {
     "data": {
      "text/plain": [
       "<IPython.core.display.HTML object>"
      ],
      "text/html": [
       " View run <strong style=\"color:#cdcd00\">Evaluation_LogisticModelAnalyzer_model_11_24_22-141435</strong> at: <a href='https://wandb.ai/toma-allary-universit-de-montr-al/IFT6758.2024-A09/runs/Evaluation_LogisticModelAnalyzer_model_11_24_22-141435' target=\"_blank\">https://wandb.ai/toma-allary-universit-de-montr-al/IFT6758.2024-A09/runs/Evaluation_LogisticModelAnalyzer_model_11_24_22-141435</a><br/> View project at: <a href='https://wandb.ai/toma-allary-universit-de-montr-al/IFT6758.2024-A09' target=\"_blank\">https://wandb.ai/toma-allary-universit-de-montr-al/IFT6758.2024-A09</a><br/>Synced 5 W&B file(s), 0 media file(s), 0 artifact file(s) and 4 other file(s)"
      ]
     },
     "metadata": {},
     "output_type": "display_data"
    },
    {
     "data": {
      "text/plain": [
       "<IPython.core.display.HTML object>"
      ],
      "text/html": [
       "Find logs at: <code>.\\wandb\\run-20241122_141450-Evaluation_LogisticModelAnalyzer_model_11_24_22-141435\\logs</code>"
      ]
     },
     "metadata": {},
     "output_type": "display_data"
    },
    {
     "data": {
      "text/plain": [
       "<Figure size 800x600 with 0 Axes>"
      ]
     },
     "metadata": {},
     "output_type": "display_data"
    },
    {
     "data": {
      "text/plain": [
       "<Figure size 800x600 with 0 Axes>"
      ]
     },
     "metadata": {},
     "output_type": "display_data"
    },
    {
     "data": {
      "text/plain": [
       "<Figure size 800x600 with 0 Axes>"
      ]
     },
     "metadata": {},
     "output_type": "display_data"
    },
    {
     "data": {
      "text/plain": [
       "<Figure size 800x600 with 0 Axes>"
      ]
     },
     "metadata": {},
     "output_type": "display_data"
    }
   ],
   "execution_count": 45
  },
  {
   "metadata": {},
   "cell_type": "code",
   "outputs": [],
   "execution_count": null,
   "source": "",
   "id": "c0ea69a99b2178a9"
  }
 ],
 "metadata": {
  "kernelspec": {
   "display_name": "Python 3",
   "language": "python",
   "name": "python3"
  },
  "language_info": {
   "codemirror_mode": {
    "name": "ipython",
    "version": 2
   },
   "file_extension": ".py",
   "mimetype": "text/x-python",
   "name": "python",
   "nbconvert_exporter": "python",
   "pygments_lexer": "ipython2",
   "version": "2.7.6"
  }
 },
 "nbformat": 4,
 "nbformat_minor": 5
}
