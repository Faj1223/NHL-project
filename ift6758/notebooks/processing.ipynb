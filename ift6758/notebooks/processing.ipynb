{
 "cells": [
  {
   "cell_type": "code",
   "execution_count": 3,
   "metadata": {},
   "outputs": [],
   "source": [
    "import os\n",
    "import sys\n",
    "\n",
    "if os.path.join(os.path.dirname(os.getcwd()), \"controller\") not in sys.path:\n",
    "    sys.path.append(os.path.join(os.path.dirname(os.getcwd()), \"controller\"))\n",
    "\n",
    "from nhl_data_processor import NHLDataProcessor\n",
    "from nhl_data_loader import NHLDataLoader\n",
    "from nhl_data_exporter import NHLDataExporter\n",
    "\n",
    "# À compléter (par exemple seasons = [2016, 2017, 2018, 2019, 2020, 2021])\n",
    "seasons = [2016]\n",
    "\n",
    "data_dir_path = os.path.join(os.path.dirname(os.getcwd()), \"data\")\n",
    "\n",
    "loader = NHLDataLoader()\n",
    "processor = NHLDataProcessor()\n",
    "exporter = NHLDataExporter()\n",
    "\n",
    "for season in seasons:\n",
    "    csv_files_season_dir_path = os.path.join(data_dir_path, \"play_by_play\", \"json\", f\"{season}\")\n",
    "    json_files_names = [json_file_name for json_file_name in os.listdir(csv_files_season_dir_path) if json_file_name.endswith('.json')]\n",
    "    for json_file_name in json_files_names:\n",
    "        game_id = json_file_name.split('.')[0]\n",
    "        dictionary = loader.load_json_file(game_id)\n",
    "        df = processor.dictionary_to_data_frame_single_game(dictionary)\n",
    "        exporter.save_to_csv(df)\n",
    "\n",
    "df = loader.load_csv_files(seasons)\n",
    "\n",
    "df = processor.add_last_event_type_column(df)\n",
    "df = processor.add_last_x_coord_column(df)\n",
    "df = processor.add_last_y_coord_column(df)\n",
    "df = processor.add_time_since_last_event_column(df)\n",
    "df = processor.add_distance_from_last_event_column(df)\n",
    "df = processor.add_rebound_column(df)\n",
    "df = processor.add_home_team_defending_side_column(df)\n",
    "df = processor.add_shooting_distance_column(df)\n",
    "df = processor.add_shot_angle_column(df)\n",
    "df = processor.add_rebound_angle_column(df)\n",
    "df = processor.add_speed_from_last_event_column(df)\n",
    "\n",
    "exporter.save_to_csv(df)"
   ]
  }
 ],
 "metadata": {
  "kernelspec": {
   "display_name": "ift6758-conda-env",
   "language": "python",
   "name": "python3"
  },
  "language_info": {
   "codemirror_mode": {
    "name": "ipython",
    "version": 3
   },
   "file_extension": ".py",
   "mimetype": "text/x-python",
   "name": "python",
   "nbconvert_exporter": "python",
   "pygments_lexer": "ipython3",
   "version": "3.12.4"
  }
 },
 "nbformat": 4,
 "nbformat_minor": 2
}
