{
 "cells": [
  {
   "cell_type": "code",
   "id": "initial_id",
   "metadata": {
    "collapsed": true,
    "ExecuteTime": {
     "end_time": "2024-12-11T22:24:40.692096Z",
     "start_time": "2024-12-11T22:24:40.683332Z"
    }
   },
   "source": [
    "from sklearn.linear_model import LogisticRegression\n",
    "import joblib\n",
    "import numpy as np\n",
    "\n",
    "# Créer un modèle de régression logistique factice\n",
    "model = LogisticRegression()\n",
    "X_dummy = np.random.rand(10, 2)  # 10 exemples avec 2 caractéristiques\n",
    "y_dummy = np.random.randint(0, 2, size=10)  # 10 labels binaires\n",
    "model.fit(X_dummy, y_dummy)\n",
    "\n",
    "# Sauvegarder le modèle dans le dossier 'models'\n",
    "joblib.dump(model, \"../../serving/models/default_model.joblib\")\n",
    "print(\"Default model saved to models/default_model.joblib\")\n"
   ],
   "outputs": [
    {
     "name": "stdout",
     "output_type": "stream",
     "text": [
      "Default model saved to models/default_model.joblib\n"
     ]
    }
   ],
   "execution_count": 3
  }
 ],
 "metadata": {
  "kernelspec": {
   "display_name": "Python 3",
   "language": "python",
   "name": "python3"
  },
  "language_info": {
   "codemirror_mode": {
    "name": "ipython",
    "version": 2
   },
   "file_extension": ".py",
   "mimetype": "text/x-python",
   "name": "python",
   "nbconvert_exporter": "python",
   "pygments_lexer": "ipython2",
   "version": "2.7.6"
  }
 },
 "nbformat": 4,
 "nbformat_minor": 5
}
