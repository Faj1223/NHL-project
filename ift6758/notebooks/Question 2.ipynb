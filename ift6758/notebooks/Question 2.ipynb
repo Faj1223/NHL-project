{
 "cells": [
  {
   "cell_type": "markdown",
   "id": "3ae99b31e3bef786",
   "metadata": {},
   "source": [
    "<h1>Outil de débogage interactif (10%)</h1>\n",
    "<p>L'outil de débogage nous permet de télécharger une saison et visualiser tous les evenements sur l'image de la patinoire. Sélectionnez une saison (regulière ou playoffs) puis attendez la fin du téléchargement. Vous pouvez maintenant explorer les evenements de chaque parties.</p>\n",
    "\n",
    "<p> Notez qu'ici on explore seulement \"shots\" et \"shot-on-goal\" mais il serait possiblement d'explorer d'autre evenements </p>\n",
    "\n",
    "<h4> Question 2.1 <br> *Voir le résumé de notre outils dans le blogue ici: (TODO!) INSERT LINK </h4>"
   ]
  },
  {
   "cell_type": "code",
   "execution_count": 2,
   "id": "initial_id",
   "metadata": {},
   "outputs": [
    {
     "name": "stderr",
     "output_type": "stream",
     "text": [
      "Widget Javascript not detected.  It may not be installed or enabled properly.\n"
     ]
    },
    {
     "data": {
      "application/vnd.jupyter.widget-view+json": {
       "model_id": "6b9a1f1d61f547a08aa2ac0559a45959"
      }
     },
     "metadata": {},
     "output_type": "display_data"
    }
   ],
   "source": [
    "import sys\n",
    "sys.path.append('../..')\n",
    "import ift6758\n",
    "from ift6758.controller.rink_event_debug_tool import RinkEventDebugTool\n",
    "event_debug_tool = RinkEventDebugTool([\"shot-on-goal\", \"goal\"])\n",
    "event_debug_tool.display_layout()"
   ]
  },
  {
   "cell_type": "code",
   "execution_count": null,
   "id": "33b962da-ddc7-4696-be60-d6263b8b03e3",
   "metadata": {},
   "outputs": [],
   "source": []
  }
 ],
 "metadata": {
  "kernelspec": {
   "display_name": "Python 3 (ipykernel)",
   "language": "python",
   "name": "python3"
  },
  "language_info": {
   "codemirror_mode": {
    "name": "ipython",
    "version": 3
   },
   "file_extension": ".py",
   "mimetype": "text/x-python",
   "name": "python",
   "nbconvert_exporter": "python",
   "pygments_lexer": "ipython3",
   "version": "3.8.10"
  }
 },
 "nbformat": 4,
 "nbformat_minor": 5
}
