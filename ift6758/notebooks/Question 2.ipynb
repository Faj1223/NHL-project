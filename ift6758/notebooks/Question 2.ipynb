{
 "cells": [
  {
   "metadata": {},
   "cell_type": "markdown",
   "source": [
    "<h1>Outil de débogage interactif (10%)</h1>\n",
    "<p>L'outil de débogage nous permet de télécharger une saison et visualiser tous les evenements sur l'image de la patinoire. Sélectionnez une saison (regulière ou playoffs) puis attendez la fin du téléchargement. Vous pouvez maintenant explorer les evenements de chaque parties.</p>\n",
    "\n",
    "<p> Notez qu'ici on explore seulement \"shots\" et \"shot-on-goal\" mais il serait possiblement d'explorer d'autre evenements </p>\n",
    "\n",
    "<h4> Question 2.1 <br> *Voir le résumé de notre outils dans le blogue ici: (TODO!) INSERT LINK </h4>"
   ],
   "id": "3ae99b31e3bef786"
  },
  {
   "cell_type": "code",
   "id": "initial_id",
   "metadata": {
    "collapsed": true
   },
   "source": [
    "from ift6758.controller.rink_event_debug_tool import RinkEventDebugTool\n",
    "\n",
    "\n",
    "event_debug_tool = RinkEventDebugTool([\"shot-on-goal\", \"goal\"])\n",
    "event_debug_tool.display_layout()"
   ],
   "outputs": [],
   "execution_count": null
  }
 ],
 "metadata": {
  "kernelspec": {
   "display_name": "Python 3",
   "language": "python",
   "name": "python3"
  },
  "language_info": {
   "codemirror_mode": {
    "name": "ipython",
    "version": 2
   },
   "file_extension": ".py",
   "mimetype": "text/x-python",
   "name": "python",
   "nbconvert_exporter": "python",
   "pygments_lexer": "ipython2",
   "version": "2.7.6"
  }
 },
 "nbformat": 4,
 "nbformat_minor": 5
}
