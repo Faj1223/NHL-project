{
 "cells": [
  {
   "cell_type": "code",
   "execution_count": 2,
   "id": "4bb836d2-13b9-4b8a-a92a-87ee07bbee29",
   "metadata": {},
   "outputs": [],
   "source": [
    "import os\n",
    "import sys\n",
    "\n",
    "if os.path.join(os.path.dirname(os.getcwd()), \"controller\") not in sys.path:\n",
    "    sys.path.append(os.path.join(os.path.dirname(os.getcwd()), \"controller\"))\n",
    "\n",
    "from nhl_data_loader import NHLDataLoader\n",
    "from nhl_data_cleaner import NHLDataCleaner\n",
    "from nhl_data_exporter import NHLDataExporter\n",
    "\n",
    "# À compléter\n",
    "seasons = [2016, 2017, 2018, 2019, 2020, 2021]\n",
    "\n",
    "data_dir_path = os.path.join(os.path.dirname(os.getcwd()), \"data\")\n",
    "\n",
    "loader = NHLDataLoader()\n",
    "cleaner = NHLDataCleaner()\n",
    "exporter = NHLDataExporter()\n",
    "\n",
    "df = loader.load_csv_files(seasons)\n",
    "\n",
    "df = cleaner.clean(df)\n",
    "\n",
    "exporter.save_to_csv(df)"
   ]
  }
 ],
 "metadata": {
  "kernelspec": {
   "display_name": "ift6758-conda-env",
   "language": "python",
   "name": "ift6758-conda-env"
  },
  "language_info": {
   "codemirror_mode": {
    "name": "ipython",
    "version": 3
   },
   "file_extension": ".py",
   "mimetype": "text/x-python",
   "name": "python",
   "nbconvert_exporter": "python",
   "pygments_lexer": "ipython3",
   "version": "3.12.4"
  }
 },
 "nbformat": 4,
 "nbformat_minor": 5
}
