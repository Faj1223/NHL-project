{
 "cells": [
  {
   "cell_type": "markdown",
   "id": "aa949b5d-f409-446c-b293-7de4863670da",
   "metadata": {},
   "source": [
    "<h1>Visualisations simples (25%)</h1>"
   ]
  },
  {
   "cell_type": "markdown",
   "id": "d80989cf",
   "metadata": {},
   "source": [
    "Pour utiliser ce notebook, il est nécessaire d'avoir exécuté les notebooks précédents (Question 1.ipynb, Question 2.ipynb et Question 3.ipynb)."
   ]
  },
  {
   "cell_type": "code",
   "id": "906fdfa9-22b0-44a2-a37d-6daa9bacd857",
   "metadata": {},
   "source": [
    "import pandas as pd\n",
    "import matplotlib.pyplot as plt\n",
    "import numpy as np\n",
    "from scipy.spatial import distance\n",
    "from scipy import stats\n",
    "import seaborn as sns\n",
    "import math\n",
    "import sys\n",
    "sys.path.append('../..')\n",
    "import ift6758\n",
    "from ift6758.controller.nhl_data_downloader  import NHLDataDownloader, get_dataframe_from_csv_file, get_dataframe_from_concatenated_csv_files\n"
   ],
   "outputs": [],
   "execution_count": null
  },
  {
   "cell_type": "markdown",
   "id": "5c6415c8",
   "metadata": {},
   "source": [
    "<h3>Question 1.)</h3>"
   ]
  },
  {
   "cell_type": "code",
   "id": "da047c84-42fc-48d6-8873-2f382a351053",
   "metadata": {},
   "source": [
    "df_2016 = get_dataframe_from_concatenated_csv_files(2016)\n",
    "df_2016"
   ],
   "outputs": [],
   "execution_count": null
  },
  {
   "cell_type": "code",
   "id": "5226b169-00e1-4877-be96-011baf26b30c",
   "metadata": {},
   "source": [
    "pivot_df_2016 = df_2016.pivot_table(index='shot_type', columns='is_goal', aggfunc='size', fill_value=0)\n",
    "pivot_df_2016\n"
   ],
   "outputs": [],
   "execution_count": null
  },
  {
   "cell_type": "code",
   "id": "98237d17",
   "metadata": {},
   "source": [
    "pivot_df_2016.index.name = \"type de tir\"\n",
    "pivot_df_2016.columns.name = None\n",
    "pivot_df_2016"
   ],
   "outputs": [],
   "execution_count": null
  },
  {
   "cell_type": "code",
   "id": "77e54772-42f8-4faf-9d5b-e7f4551c6cbd",
   "metadata": {},
   "source": [
    "pivot_df_2016 = pivot_df_2016.rename(columns={False: \"nombre de tirs bloqués\", True: \"nombre de tirs marqués\"})\n",
    "pivot_df_2016"
   ],
   "outputs": [],
   "execution_count": null
  },
  {
   "cell_type": "code",
   "id": "8fc267c0-e3bd-43fc-8902-eca2c87a4a94",
   "metadata": {},
   "source": [
    "pivot_df_2016 = pivot_df_2016.drop(index=[\"Unknown\"])\n",
    "pivot_df_2016"
   ],
   "outputs": [],
   "execution_count": null
  },
  {
   "cell_type": "code",
   "id": "e8183592",
   "metadata": {},
   "source": [
    "pivot_df_2016[\"nombre de tirs\"] = pivot_df_2016[\"nombre de tirs bloqués\"] + pivot_df_2016[\"nombre de tirs marqués\"]\n",
    "pivot_df_2016"
   ],
   "outputs": [],
   "execution_count": null
  },
  {
   "cell_type": "code",
   "id": "f9962ff5",
   "metadata": {},
   "source": [
    "pivot_df_2016[\"pourcentage de tirs marqués\"] = pivot_df_2016[\"nombre de tirs marqués\"] / pivot_df_2016[\"nombre de tirs\"] * 100\n",
    "pivot_df_2016"
   ],
   "outputs": [],
   "execution_count": null
  },
  {
   "cell_type": "code",
   "id": "8d606dae-9c0c-42c4-9c47-cdfab6b20508",
   "metadata": {},
   "source": [
    "# Créer l'histogramme\n",
    "plt.figure(figsize=(10, 6))\n",
    "bars = plt.bar(pivot_df_2016.index, pivot_df_2016[\"nombre de tirs\"], color=\"blue\", alpha=0.7)\n",
    "\n",
    "# Créer une couleur pour chaque barre en fonction du pourcentage de tirs marqués\n",
    "colors = plt.cm.Blues(pivot_df_2016[\"pourcentage de tirs marqués\"] / pivot_df_2016[\"pourcentage de tirs marqués\"].max())\n",
    "\n",
    "# Mettre à jour les barres avec la couleur correspondante\n",
    "for bar, color in zip(bars, colors):\n",
    "    bar.set_color(color)\n",
    "\n",
    "# Créer un ScalarMappable pour la colorbar\n",
    "norm = plt.Normalize(pivot_df_2016[\"pourcentage de tirs marqués\"].min(), pivot_df_2016[\"pourcentage de tirs marqués\"].max())\n",
    "sm = plt.cm.ScalarMappable(cmap=\"Blues\", norm=norm)\n",
    "sm.set_array([])  # Pour éviter un avertissement\n",
    "\n",
    "# Ajouter la colorbar avec l'argument ax\n",
    "cbar = plt.colorbar(sm, ax=plt.gca(), label=\"Pourcentage de tirs marqués (%)\")\n",
    "\n",
    "# Ajouter des labels et un titre\n",
    "plt.xlabel(\"Type de tir\")\n",
    "plt.ylabel(\"Nombre de tirs\")\n",
    "plt.title(\"Nombre de tirs par type de tir\")\n",
    "\n",
    "# Afficher les valeurs au-dessus des barres\n",
    "for bar in bars:\n",
    "    yval = bar.get_height()\n",
    "    plt.text(bar.get_x() + bar.get_width() / 2, yval + 1, f\"{yval}\", ha=\"center\", va=\"bottom\")\n",
    "\n",
    "plt.tight_layout()  # Pour un ajustement automatique des éléments\n",
    "plt.show()"
   ],
   "outputs": [],
   "execution_count": null
  },
  {
   "cell_type": "markdown",
   "id": "8d5d76ec",
   "metadata": {},
   "source": [
    "<h3>Questions 1. a) 1. b) et 1. c) </h3>"
   ]
  },
  {
   "cell_type": "markdown",
   "id": "e1e53ab4-5bd3-4518-a16a-249d8d3d7eb2",
   "metadata": {},
   "source": [
    "Il s'agit ici de l'analyse statistique qui nous a permis de savoir où se trouve chaque type d'équipe à chaque période du match."
   ]
  },
  {
   "cell_type": "code",
   "id": "52444979-0b27-4c1d-ac50-eaa8a487da78",
   "metadata": {},
   "source": [
    "filtered_df_2016 = df_2016[(df_2016['game_id'] == 2016020922) & (df_2016['period'] == 1) & (df_2016['team_type'] == 'home')]\n",
    "filtered_df_2016"
   ],
   "outputs": [],
   "execution_count": null
  },
  {
   "cell_type": "code",
   "id": "be41ecb8-352c-4758-ac69-18bd9bda834f",
   "metadata": {},
   "source": [
    "stat = filtered_df_2016.describe()\n",
    "stat"
   ],
   "outputs": [],
   "execution_count": null
  },
  {
   "cell_type": "markdown",
   "id": "dda350e2-4878-4114-ad91-eb42c4ae54be",
   "metadata": {},
   "source": [
    "C'est la fin de la petite analyse statistique, des explications seront apportées dans le blog."
   ]
  },
  {
   "cell_type": "code",
   "id": "814349b9",
   "metadata": {},
   "source": [
    "def add_home_team_defending_side(df: pd.DataFrame) -> pd.DataFrame:\n",
    "\tdf = df.copy()\n",
    "\t\n",
    "\tdf['home_team_defending_side'] = None\n",
    "\tnumber_of_lines = df.shape[0]\n",
    "\tgames_ids = []\n",
    "\thome_team_defending_side_first_period = {}\n",
    "\thome_team_defending_side_second_period = {}\n",
    "\n",
    "\tfor index in range(number_of_lines):\n",
    "\t\tgame_id = df.loc[index, 'game_id']\n",
    "\t\tif game_id in games_ids:\n",
    "\t\t\tperiod = df.loc[index, 'period']\n",
    "\t\t\tif period % 2 == 1:\n",
    "\t\t\t\tdf.loc[index, 'home_team_defending_side'] = home_team_defending_side_first_period[game_id]\n",
    "\t\t\telse:\n",
    "\t\t\t\tdf.loc[index, 'home_team_defending_side'] = home_team_defending_side_second_period[game_id]\n",
    "\t\telse:\n",
    "\t\t\tperiod = df.loc[index, 'period']\n",
    "\t\t\tfiltered_df = df.query(f\"game_id == {game_id} and period == {period} and team_type == 'home'\")\n",
    "\t\t\tx_coords = filtered_df['x_coord']\n",
    "\t\t\tmedian = x_coords.median()\n",
    "\t\t\tif median > 0:\n",
    "\t\t\t\tdf.loc[index, 'home_team_defending_side'] = 'left'\n",
    "\t\t\t\tif period % 2 == 1:\n",
    "\t\t\t\t\thome_team_defending_side_first_period[game_id] = 'left'\n",
    "\t\t\t\t\thome_team_defending_side_second_period[game_id] = 'right'\n",
    "\t\t\t\telse:\n",
    "\t\t\t\t\thome_team_defending_side_first_period[game_id] = 'right'\n",
    "\t\t\t\t\thome_team_defending_side_second_period[game_id] = 'left'\n",
    "\t\t\telse:\n",
    "\t\t\t\tdf.loc[index, 'home_team_defending_side'] = 'right'\n",
    "\t\t\t\tif period % 2 == 1:\n",
    "\t\t\t\t\thome_team_defending_side_first_period[game_id] = 'right'\n",
    "\t\t\t\t\thome_team_defending_side_second_period[game_id] = 'left'\n",
    "\t\t\t\telse:\n",
    "\t\t\t\t\thome_team_defending_side_first_period[game_id] = 'left'\n",
    "\t\t\t\t\thome_team_defending_side_second_period[game_id] = 'right'\n",
    "\t\t\tgames_ids.append(game_id)\n",
    "\t\t\t\n",
    "\treturn df"
   ],
   "outputs": [],
   "execution_count": null
  },
  {
   "cell_type": "code",
   "id": "1efb8547",
   "metadata": {},
   "source": [
    "def distance_de_tir(tir: pd.Series) -> float:\n",
    "\tshooter_coords = (tir['x_coord'], tir['y_coord'])\n",
    "\n",
    "\tif tir['home_team_defending_side'] == 'left':\n",
    "\t\thome_goalie_coords = (-100, 0)\n",
    "\t\taway_goalie_coords = (100, 0)\n",
    "\telse:\n",
    "\t\thome_goalie_coords = (100, 0)\n",
    "\t\taway_goalie_coords = (-100, 0)\n",
    "\n",
    "\tif tir['team_type'] == 'home':\n",
    "\t\treturn float(distance.euclidean(shooter_coords, away_goalie_coords))\n",
    "\telse:\n",
    "\t\treturn float(distance.euclidean(shooter_coords, home_goalie_coords))"
   ],
   "outputs": [],
   "execution_count": null
  },
  {
   "cell_type": "code",
   "id": "c8922335",
   "metadata": {},
   "source": [
    "def add_distance_de_tir(df: pd.DataFrame) -> pd.DataFrame:\n",
    "\tdf = df.copy()\n",
    "\n",
    "\tdf['distance_de_tir'] = df.apply(distance_de_tir, axis=1)\n",
    "\n",
    "\treturn df"
   ],
   "outputs": [],
   "execution_count": null
  },
  {
   "cell_type": "code",
   "id": "2479b6ee-30dc-497b-89fb-17247be3c2ec",
   "metadata": {},
   "source": [
    "def data_processing_pipeline(df: pd.DataFrame) -> pd.DataFrame:\n",
    "    # Étape 1 : Supprimer les lignes avec des valeurs manquantes dans 'x_coord' et 'y_coord' (elles sont insignifiantes en terme de pourcentage)\n",
    "    df = df.dropna(subset=['x_coord', 'y_coord'])\n",
    "\n",
    "    # Étape 2 : Renuméroter les indices de manière séquentielle\n",
    "    df = df.reset_index(drop=True)\n",
    "\n",
    "    # Étape 3 : Ajouter la colonne 'home_team_defending_side'\n",
    "    df = add_home_team_defending_side(df)\n",
    "    \n",
    "    # Étape 4 : Ajouter la colonne 'distance_de_tir'\n",
    "    df = add_distance_de_tir(df)\n",
    "    \n",
    "    return df"
   ],
   "outputs": [],
   "execution_count": null
  },
  {
   "cell_type": "code",
   "id": "d4bd7a4b-953e-4c84-9120-ca204a2c3c62",
   "metadata": {},
   "source": [
    "# Utilisation de la pipeline sur le DataFrame df_2016\n",
    "df_2016 = data_processing_pipeline(df_2016)\n",
    "df_2016.head(3)"
   ],
   "outputs": [],
   "execution_count": null
  },
  {
   "cell_type": "markdown",
   "id": "d2f113e2-ba8e-4100-a6d1-a94eb93afddd",
   "metadata": {},
   "source": [
    "__Relation entre la distance à laquelle un tir a été effectué et la chance qu'il s'agisse d'un but__"
   ]
  },
  {
   "cell_type": "code",
   "id": "818f253b-f3fe-431c-9be5-fc6f08202ec9",
   "metadata": {},
   "source": [
    "# Créer une nouvelle colonne pour les niveaux : +1 pour les buts, -1 pour les tirs manqués\n",
    "df_2016['is_goal_level'] = df_2016['is_goal'].apply(lambda x: 1 if x else -1)\n",
    "\n",
    "# Tracer le graphique\n",
    "plt.figure(figsize=(10, 6))\n",
    "sns.scatterplot(data=df_2016, x='distance_de_tir', y='is_goal_level', hue='is_goal', \n",
    "                palette={True: 'green', False: 'red'}, alpha=0.6, marker='x')\n",
    "\n",
    "# Ajouter des titres et des labels\n",
    "plt.title(\"Relation entre la distance de tir et le résultat du tir\")\n",
    "plt.xlabel(\"Distance de tir\")\n",
    "plt.ylabel(\"Résultat du tir (+1 : But, -1 : Manqué)\")\n",
    "\n",
    "# Ajuster les limites de l'axe y\n",
    "plt.ylim(-1.5, 1.5)\n",
    "\n",
    "# Afficher le graphique\n",
    "plt.show()"
   ],
   "outputs": [],
   "execution_count": null
  },
  {
   "cell_type": "markdown",
   "id": "172085fd-05cd-4511-886e-e688e5fac103",
   "metadata": {},
   "source": [
    "Ce graphe montre clairement que plus la distance de tir est faible, plus les chances de marquer augmentent. En effet, comme on peut l’observer, la majorité des buts sont inscrits à moins de 78 pieds du but adverse. Cependant, aucune distribution précise n’est visible sur ce graphe. On pourrait toutefois noter que la distribution des tirs manqués semble relativement uniforme, mais elle devient moins dense à mesure que la distance de tir augmente.\n",
    "\n",
    "Nous allons donc tracer des histogrammes afin de voir si des scénarios plus significatifs apparaissent."
   ]
  },
  {
   "cell_type": "code",
   "id": "7c35278f-3ef5-4697-bc32-6c3258794100",
   "metadata": {},
   "source": [
    "is_goal_df_2016 = df_2016.query(\"is_goal == True\")\n",
    "no_goal_df_2016 = df_2016.query(\"is_goal == False\")\n",
    "\n",
    "# Créer une figure avec deux sous-figures (1 ligne, 2 colonnes)\n",
    "fig, axes = plt.subplots(1, 2, figsize=(12, 5))  # 1 ligne, 2 colonnes\n",
    "\n",
    "# Premier histogramme dans la première sous-figure (axes[0])\n",
    "axes[0].hist(is_goal_df_2016[\"distance_de_tir\"], bins=200, color=\"green\", alpha=0.7, edgecolor=\"black\") # TODO: trouver une méthode pour déterminer la valeur de bins\n",
    "axes[0].set_title(\"Distribution des distances de tir pour les tirs marqués\")\n",
    "axes[0].set_xlabel(\"Distance de tir (en pieds)\")\n",
    "axes[0].set_ylabel(\"Nombre de tirs marqués\")\n",
    "\n",
    "# Deuxième histogramme dans la deuxième sous-figure (axes[1])\n",
    "axes[1].hist(no_goal_df_2016[\"distance_de_tir\"], bins=200, color=\"red\", alpha=0.7, edgecolor=\"black\") # TODO: trouver une méthode pour déterminer la valeur de bins\n",
    "axes[1].set_title(\"Distribution des distances de tir pour les tirs bloqués\")\n",
    "axes[1].set_xlabel(\"Distance de tir (en pieds)\")\n",
    "axes[1].set_ylabel(\"Nombre de tirs bloqués\")\n",
    "\n",
    "# Ajuster l'espacement entre les sous-figures\n",
    "plt.tight_layout()\n",
    "\n",
    "# Afficher la figure avec les deux sous-figures\n",
    "plt.show()"
   ],
   "outputs": [],
   "execution_count": null
  },
  {
   "cell_type": "markdown",
   "id": "971d5d31-adc3-4443-b756-a309a8c1acc0",
   "metadata": {},
   "source": [
    "Nous pouvons observer ici des distributions presque normales, mais étirées vers la gauche pour les tirs réussis et aplaties pour les tirs manqués. Nous allons passer à une échelle logarithmique afin de mieux visualiser et interpréter les données, qui semblent plutôt asymétriques (\"skewed\") selon le graphique. En effet, on constate que de nombreux tirs réalisés autour de 20 pieds se sont soldés par un but, ce qui rend le premier quartile de cette distribution très asymétrique."
   ]
  },
  {
   "cell_type": "markdown",
   "id": "93fa9241-efc8-4c00-b5ef-2d1afb4ebb0a",
   "metadata": {},
   "source": [
    "**Échelle logarithmique**"
   ]
  },
  {
   "cell_type": "code",
   "id": "92f7ee91-a5a1-4d52-828e-da1872ae0583",
   "metadata": {},
   "source": [
    "def plot_shot_distance_histograms(df, season: int, log=False):\n",
    "    # Filtrer les DataFrames pour les tirs marqués et non marqués\n",
    "    is_goal_df = df.query(\"is_goal == True\")\n",
    "    no_goal_df = df.query(\"is_goal == False\")\n",
    "\n",
    "    # Créer une figure avec deux sous-figures (1 ligne, 2 colonnes)\n",
    "    fig, axes = plt.subplots(1, 2, figsize=(12, 5))  # 1 ligne, 2 colonnes\n",
    "\n",
    "    if log:\n",
    "        is_goal_distance_de_tir = is_goal_df[\"distance_de_tir\"].apply(math.log)\n",
    "        no_goal_distance_de_tir = no_goal_df[\"distance_de_tir\"].apply(math.log)\n",
    "    else:\n",
    "        is_goal_distance_de_tir = is_goal_df[\"distance_de_tir\"]\n",
    "        no_goal_distance_de_tir = no_goal_df[\"distance_de_tir\"]\n",
    "\n",
    "    # Premier histogramme dans la première sous-figure (axes[0])\n",
    "    axes[0].hist(is_goal_distance_de_tir, bins=200, color=\"green\", alpha=0.7, edgecolor=\"black\")\n",
    "    axes[0].set_title(f\"Distribution des distances de tir pour les tirs marqués en {season}\")\n",
    "    if log:\n",
    "        axes[0].set_xlabel(\"Distance de tir (log en pieds)\")\n",
    "    else:\n",
    "        axes[0].set_xlabel(\"Distance de tir (en pieds)\")\n",
    "    axes[0].set_ylabel(\"Nombre de tirs marqués\")\n",
    "\n",
    "    # Deuxième histogramme dans la deuxième sous-figure (axes[1])\n",
    "    axes[1].hist(no_goal_distance_de_tir, bins=200, color=\"red\", alpha=0.7, edgecolor=\"black\")\n",
    "    axes[1].set_title(f\"Distribution des distances de tir pour les tirs bloqués en {season}\")\n",
    "    if log:\n",
    "        axes[1].set_xlabel(\"Distance de tir (log en pieds)\")\n",
    "    else:\n",
    "        axes[1].set_xlabel(\"Distance de tir (en pieds)\")\n",
    "    axes[1].set_ylabel(\"Nombre de tirs bloqués\")\n",
    "\n",
    "    # Ajuster l'espacement entre les sous-figures\n",
    "    plt.tight_layout()\n",
    "\n",
    "    # Afficher la figure avec les deux sous-figures\n",
    "    plt.show()"
   ],
   "outputs": [],
   "execution_count": null
  },
  {
   "cell_type": "code",
   "id": "8bd7227b-d348-41f7-9232-1a836b0a07ec",
   "metadata": {},
   "source": [
    "plot_shot_distance_histograms(df_2016, season=2016, log=True)"
   ],
   "outputs": [],
   "execution_count": null
  },
  {
   "cell_type": "code",
   "id": "ca7daba8-73d1-41b3-a8c8-64f6b748cb8c",
   "metadata": {},
   "source": [
    "moyenne_des_tirs_marqués = is_goal_df_2016[\"distance_de_tir\"].mean()\n",
    "ecart_type_des_tirs_marqués = is_goal_df_2016[\"distance_de_tir\"].std()\n",
    "print(moyenne_des_tirs_marqués)\n",
    "print(ecart_type_des_tirs_marqués)"
   ],
   "outputs": [],
   "execution_count": null
  },
  {
   "cell_type": "markdown",
   "id": "5739c975-e32c-4467-810d-a01b67126d8b",
   "metadata": {},
   "source": [
    "Ici, nous pouvons observer que la distribution logarithmique des distances de tir est normale (avec un peu de bruit) dans les deux cas. En fait, il ne faut pas tirer trop près, ni trop loin, pour maximiser les chances de marquer des buts. D’après cette distribution presque normale avec les paramètres (33.9, 20.74), nous pouvons évaluer les probabilités qu’un tir aboutisse à un but. On peut rapidement constater qu’un tir effectué à environ exp(3.5) = 33.11 pieds serait fortement recommandé aux joueurs, et donc particulièrement dangereux pour le gardien adverse."
   ]
  },
  {
   "cell_type": "markdown",
   "id": "0a5d6aa9-5669-49f0-b045-d3387e48a558",
   "metadata": {},
   "source": [
    "**Nous allons maintenant superposer les graphes des saisons 2018-2019 et 2020-2021 pour infirmer ou confirmer cette analyse précédente.**"
   ]
  },
  {
   "cell_type": "code",
   "id": "e3accfd0-a88b-4c65-8a2a-aba5564bd343",
   "metadata": {},
   "source": [
    "df_2018 = get_dataframe_from_concatenated_csv_files(2018)\n",
    "df_2018.head(3)"
   ],
   "outputs": [],
   "execution_count": null
  },
  {
   "cell_type": "code",
   "id": "1c0a0602-9c36-4d4e-9868-ff64d84c8568",
   "metadata": {},
   "source": [
    "# Utilisation de la pipeline sur le DataFrame df_2018\n",
    "df_2018 = data_processing_pipeline(df_2018)\n",
    "df_2018.head(3)"
   ],
   "outputs": [],
   "execution_count": null
  },
  {
   "cell_type": "code",
   "id": "d178f249-c253-47e8-8d47-79d0e11cb00b",
   "metadata": {},
   "source": [
    "df_2019 = get_dataframe_from_concatenated_csv_files(2019)\n",
    "df_2019.head(3)"
   ],
   "outputs": [],
   "execution_count": null
  },
  {
   "cell_type": "code",
   "id": "4c440e09-b34b-41b7-a484-ddc896fd9648",
   "metadata": {},
   "source": [
    "df_2019 = data_processing_pipeline(df_2019)\n",
    "df_2019.head(3)"
   ],
   "outputs": [],
   "execution_count": null
  },
  {
   "cell_type": "code",
   "id": "cada7189-ce30-458e-ad7a-1bfdf85e455d",
   "metadata": {},
   "source": [
    "df_2020 = get_dataframe_from_concatenated_csv_files(2020)\n",
    "df_2020.head(3)"
   ],
   "outputs": [],
   "execution_count": null
  },
  {
   "cell_type": "code",
   "id": "fea78500-f513-43e7-9212-5d4e2ae0039e",
   "metadata": {},
   "source": [
    "df_2020 = data_processing_pipeline(df_2020)\n",
    "df_2020.head(3)"
   ],
   "outputs": [],
   "execution_count": null
  },
  {
   "cell_type": "code",
   "id": "6c2fdd05-335a-412d-8814-a3f943f7d9ae",
   "metadata": {},
   "source": [
    "plot_shot_distance_histograms(df_2018, season=2018, log=True)"
   ],
   "outputs": [],
   "execution_count": null
  },
  {
   "cell_type": "code",
   "id": "a56df22d",
   "metadata": {},
   "source": [
    "is_goal_df_2018 = df_2018.query(\"is_goal == True\")\n",
    "no_goal_df_2018 = df_2018.query(\"is_goal == False\")\n",
    "moyenne_des_tirs_marqués = is_goal_df_2018[\"distance_de_tir\"].mean()\n",
    "ecart_type_des_tirs_marqués = is_goal_df_2018[\"distance_de_tir\"].std()\n",
    "print(moyenne_des_tirs_marqués)\n",
    "print(ecart_type_des_tirs_marqués)"
   ],
   "outputs": [],
   "execution_count": null
  },
  {
   "cell_type": "code",
   "id": "5627eb1e-9e83-46b6-9de4-853c9529566e",
   "metadata": {},
   "source": [
    "plot_shot_distance_histograms(df_2019, season=2019, log=True)"
   ],
   "outputs": [],
   "execution_count": null
  },
  {
   "cell_type": "code",
   "id": "19ec6e05",
   "metadata": {},
   "source": [
    "is_goal_df_2019 = df_2019.query(\"is_goal == True\")\n",
    "no_goal_df_2019 = df_2019.query(\"is_goal == False\")\n",
    "moyenne_des_tirs_marqués = is_goal_df_2019[\"distance_de_tir\"].mean()\n",
    "ecart_type_des_tirs_marqués = is_goal_df_2019[\"distance_de_tir\"].std()\n",
    "print(moyenne_des_tirs_marqués)\n",
    "print(ecart_type_des_tirs_marqués)"
   ],
   "outputs": [],
   "execution_count": null
  },
  {
   "cell_type": "code",
   "id": "3265e27c-491e-412b-b6b8-0820e45732af",
   "metadata": {},
   "source": [
    "plot_shot_distance_histograms(df_2020, season=2020, log=True)"
   ],
   "outputs": [],
   "execution_count": null
  },
  {
   "cell_type": "code",
   "id": "24fc53d9",
   "metadata": {},
   "source": [
    "is_goal_df_2020 = df_2020.query(\"is_goal == True\")\n",
    "no_goal_df_2020 = df_2020.query(\"is_goal == False\")\n",
    "moyenne_des_tirs_marqués = is_goal_df_2020[\"distance_de_tir\"].mean()\n",
    "ecart_type_des_tirs_marqués = is_goal_df_2020[\"distance_de_tir\"].std()\n",
    "print(moyenne_des_tirs_marqués)\n",
    "print(ecart_type_des_tirs_marqués)"
   ],
   "outputs": [],
   "execution_count": null
  },
  {
   "cell_type": "markdown",
   "id": "64a5e5dc",
   "metadata": {},
   "source": [
    "**Analyse et commentaires sur l'évolution au cours des trois saisons étudiées**\n",
    "\n",
    "Comme on peut le constater, les histogrammes en échelle logarithmique des distances de tirs réussis et manqués ne semblent pas présenter des distributions très différentes. À première vue, on observe que les distributions des distances de tirs réussis semblent suivre des lois normales avec des moyennes assez proches et des variances apparemment similaires. Pour confirmer cette hypothèse, nous pourrions commencer par effectuer un test de normalité sur l'une de ces distributions. Si elle s'avère normale, nous procéderons à des tests pour vérifier si les moyennes des distributions sont significativement différentes ou non. Ainsi, nous pourrons déterminer si ces données appartiennent à la même distribution, et dans ce cas, nous conclurons qu'il n'y a pas eu d'évolution significative au cours de ces trois dernières saisons."
   ]
  },
  {
   "cell_type": "markdown",
   "id": "f77cb0e0",
   "metadata": {},
   "source": [
    "<h3>Question 2.)</h3>"
   ]
  },
  {
   "cell_type": "markdown",
   "id": "a0a22416",
   "metadata": {},
   "source": [
    "**Nous avons choisi les données de la saison 2017.**"
   ]
  },
  {
   "cell_type": "code",
   "id": "3f5f7317",
   "metadata": {},
   "source": [
    "df_2017 = get_dataframe_from_concatenated_csv_files(2017)\n",
    "df_2017.head(3)"
   ],
   "outputs": [],
   "execution_count": null
  },
  {
   "cell_type": "code",
   "id": "18b32c24",
   "metadata": {},
   "source": [
    "df_2017 = data_processing_pipeline(df_2017)\n",
    "df_2017.head(3)"
   ],
   "outputs": [],
   "execution_count": null
  },
  {
   "cell_type": "code",
   "id": "6cb9d6b5",
   "metadata": {},
   "source": [
    "# Ajoutons une colonne de \"distance_bins\" pour classer les distances par intervalles (ici tous les 20 pieds)\n",
    "df_2017['distance_bins'] = pd.cut(df_2017['distance_de_tir'], bins=np.arange(0, df_2017['distance_de_tir'].max() + 5, 20))\n",
    "\n",
    "# Regroupons les données par distance et type de tirs, puis calculons les totaux et pourcentages de buts\n",
    "data_grouped_2017 = df_2017.groupby(['distance_bins', 'shot_type']).agg(\n",
    "    total_shots=('event_type', 'count'),\n",
    "    total_goals=('is_goal', 'sum')\n",
    ").reset_index()\n",
    "data_grouped_2017['goal_percentage'] = (data_grouped_2017['total_goals'] / data_grouped_2017['total_shots']) * 100\n",
    "\n",
    "# Traçons le graphique\n",
    "plt.figure(figsize=(10, 6))\n",
    "for shot_type in data_grouped_2017['shot_type'].unique():\n",
    "    subset = data_grouped_2017[data_grouped_2017['shot_type'] == shot_type]\n",
    "    plt.plot(subset['distance_bins'].apply(lambda x: x.mid), subset['goal_percentage'], marker='o', label=shot_type)\n",
    "\n",
    "plt.xlabel('Distance par rapport au filet (pieds)')\n",
    "plt.ylabel('Pourcentage de buts')\n",
    "plt.title(\"Pourcentage de buts en fonction de la distance et du type de tir\")\n",
    "plt.legend(title='Type de tir')\n",
    "plt.grid(True)\n",
    "plt.show()"
   ],
   "outputs": [],
   "execution_count": null
  },
  {
   "cell_type": "markdown",
   "id": "c8945c45",
   "metadata": {},
   "source": [
    "<h1>Interprétations, commentaires et conclusion</h1>"
   ]
  },
  {
   "cell_type": "markdown",
   "id": "7bc18cbc",
   "metadata": {},
   "source": [
    "Comme on peut le voir, ce graphique est très parlant, car il montre le succès de chaque type de tir en fonction de la distance au filet. En effet, jusqu'à moins de 75 pieds, le tir qui conserve le meilleur succès est le tir dévié (deflected). Ensuite, entre 80 et 130 pieds, le tir en backhand présente un meilleur pourcentage de succès. Enfin, au-delà de 130 pieds, le Tip-in est incroyablement concluant, car il semble réussir à tous les coups, ce qui suscite des doutes quant à la pertinence de ce résultat. Ne serait-ce pas parce qu'il y a très peu de tirs de type Tip-in, qui ont pourtant presque tous abouti à un but par hasard, que nous obtenons ce résultat ? Et s'il y avait beaucoup plus de tirs de ce type, n'est-il pas possible que le pourcentage de réussite soit revu à la baisse ? Ne s'agirait-il pas d'un biais dû au manque de données ? Nous pourrions commencer une analyse simple en comparant le pourcentage de tirs de ce type avec celui des autres types de tirs."
   ]
  },
  {
   "cell_type": "markdown",
   "id": "9c6df6ed",
   "metadata": {},
   "source": []
  }
 ],
 "metadata": {
  "kernelspec": {
   "display_name": "ift6758-conda-env",
   "language": "python",
   "name": "python3"
  },
  "language_info": {
   "codemirror_mode": {
    "name": "ipython",
    "version": 3
   },
   "file_extension": ".py",
   "mimetype": "text/x-python",
   "name": "python",
   "nbconvert_exporter": "python",
   "pygments_lexer": "ipython3",
   "version": "3.12.4"
  }
 },
 "nbformat": 4,
 "nbformat_minor": 5
}
