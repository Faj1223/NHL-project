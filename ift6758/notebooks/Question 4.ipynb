{
 "cells": [
  {
   "cell_type": "markdown",
   "id": "aa949b5d-f409-446c-b293-7de4863670da",
   "metadata": {},
   "source": [
    "<h1>Visualisations simples (25%)</h1>"
   ]
  },
  {
   "cell_type": "code",
   "execution_count": null,
   "id": "ac0962c2-e964-4582-936e-f08fadce5017",
   "metadata": {},
   "outputs": [],
   "source": []
  }
 ],
 "metadata": {
  "kernelspec": {
   "display_name": "ift6758-conda-env",
   "language": "python",
   "name": "ift6758-conda-env"
  },
  "language_info": {
   "codemirror_mode": {
    "name": "ipython",
    "version": 3
   },
   "file_extension": ".py",
   "mimetype": "text/x-python",
   "name": "python",
   "nbconvert_exporter": "python",
   "pygments_lexer": "ipython3",
   "version": "3.12.4"
  }
 },
 "nbformat": 4,
 "nbformat_minor": 5
}
