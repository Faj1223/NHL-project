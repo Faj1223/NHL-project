{
 "cells": [
  {
   "cell_type": "markdown",
   "id": "a0820c5451c31947",
   "metadata": {},
   "source": [
    "<h1>Nettoyer les données (10%)</h1>\n",
    "Ici nous montrons la différence entre les données non-traitées et les tableau nettoyer.\n",
    "Nous avons déjà parler brièvement du téléchargement des données nettoyées dans les questions précédantes.\n",
    "\n",
    "Voci la liste des caratéristiques que nous avons gardé dans la version nettoyé:\n",
    "- l'heure/la période de jeu\n",
    "- l'identifiant du jeu\n",
    "- les informations sur l'équipe (quelle équipe a tiré) \n",
    "- s'il s'agit d'un tir ou d'un but\n",
    "- les coordonnées sur la glace\n",
    "- le nom du tireur et du gardien de but (ne vous inquiétez pas des assists pour l'instant) \n",
    "- le type de tir\n",
    "- si c'était sur un filet vide\n",
    "- si un but était à force égale en désavantage numérique ou en avantage numérique.\n",
    "\n",
    "<h4> Question 3.1 <br> *Voir notre article de blog pour un petit extrait de votre dataframe final ici: (TODO!) INSERT LINK </h4>\n",
    "\n",
    "<h4> Question 3.2 <br> *Voir la discussion sur le champ de « force » s'il n'existait que pour les buts et pas pour les tirs ici: (TODO!) INSERT LINK </h4>\n",
    "\n",
    "<h4> Question 3.3 <br> *Voir la disscussion sur 3 caractéristiques supplémentaires que nous pourrions envisager de créer à partir des données disponibles ici: (TODO!) INSERT LINK </h4>\n"
   ]
  },
  {
   "cell_type": "markdown",
   "id": "48df8eaf7a4fd4a8",
   "metadata": {},
   "source": [
    "<h4> Voici le json non-traité retourner par l'API </h4>"
   ]
  },
  {
   "cell_type": "code",
   "execution_count": null,
   "id": "5826caead8707615",
   "metadata": {
    "scrolled": true
   },
   "outputs": [],
   "source": [
    "import sys\n",
    "sys.path.append('../..')\n",
    "import ift6758\n",
    "from ift6758.controller.nhl_data_downloader  import NHLDataDownloader, get_dataframe_from_csv_file, get_dataframe_from_concatenated_csv_files\n",
    "\n",
    "game_id = \"2016020002\"\n",
    "\n",
    "downloader = NHLDataDownloader()\n",
    "game_data = downloader.save_and_get_game_data(game_id)\n",
    "print(game_data)\n"
   ]
  },
  {
   "cell_type": "markdown",
   "id": "e8d90290b128a195",
   "metadata": {},
   "source": [
    "<h4>Ici voici le csv/dataframe nettoyé contenant seulement les champs intéressants. Nous nous intéressons seulement aux évenments \"goal\" \"shot-on-goal\"</h4>"
   ]
  },
  {
   "cell_type": "code",
   "execution_count": null,
   "id": "67b05d06951f546c",
   "metadata": {
    "scrolled": true
   },
   "outputs": [],
   "source": [
    "# Will retrieve cleaned dataframe\n",
    "get_dataframe_from_csv_file(game_id)"
   ]
  },
  {
   "cell_type": "markdown",
   "id": "af964aa9-7d95-4815-b55a-cc85c40a291e",
   "metadata": {},
   "source": [
    "<h4>On peut aussi récupérer un DataFrame issu de la concaténation des lignes des fichiers CSV représentant les données de chaque match d'une saison donnée :</h4>"
   ]
  },
  {
   "cell_type": "code",
   "execution_count": null,
   "id": "c115c2a7-b081-4da5-89f3-c82c3052327f",
   "metadata": {},
   "outputs": [],
   "source": [
    "get_dataframe_from_concatenated_csv_files(2016)"
   ]
  },
  {
   "cell_type": "code",
   "execution_count": null,
   "id": "731b3c75-fb3d-452e-974f-dfdb7727a13f",
   "metadata": {},
   "outputs": [],
   "source": []
  }
 ],
 "metadata": {
  "kernelspec": {
   "display_name": "Python 3 (ipykernel)",
   "language": "python",
   "name": "python3"
  },
  "language_info": {
   "codemirror_mode": {
    "name": "ipython",
    "version": 3
   },
   "file_extension": ".py",
   "mimetype": "text/x-python",
   "name": "python",
   "nbconvert_exporter": "python",
   "pygments_lexer": "ipython3",
   "version": "3.8.10"
  }
 },
 "nbformat": 4,
 "nbformat_minor": 5
}
