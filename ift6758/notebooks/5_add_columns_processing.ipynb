{
 "cells": [
  {
   "cell_type": "code",
   "execution_count": 2,
   "metadata": {},
   "outputs": [],
   "source": [
    "import os\n",
    "import sys\n",
    "\n",
    "if os.path.join(os.path.dirname(os.getcwd()), \"controller\") not in sys.path:\n",
    "    sys.path.append(os.path.join(os.path.dirname(os.getcwd()), \"controller\"))\n",
    "\n",
    "from nhl_data_processor import NHLDataProcessor\n",
    "from nhl_data_loader import NHLDataLoader\n",
    "from nhl_data_exporter import NHLDataExporter\n",
    "\n",
    "# À compléter\n",
    "seasons = [2016, 2017, 2018, 2019, 2020, 2021]\n",
    "\n",
    "data_dir_path = os.path.join(os.path.dirname(os.getcwd()), \"data\")\n",
    "\n",
    "loader = NHLDataLoader()\n",
    "processor = NHLDataProcessor()\n",
    "exporter = NHLDataExporter()\n",
    "\n",
    "df = loader.load_csv_files(seasons)\n",
    "\n",
    "df = processor.add_last_event_type_column(df)\n",
    "df = processor.add_last_x_coord_column(df)\n",
    "df = processor.add_last_y_coord_column(df)\n",
    "df = processor.add_time_since_last_event_column(df)\n",
    "df = processor.add_distance_from_last_event_column(df)\n",
    "df = processor.add_rebound_column(df)\n",
    "df = processor.add_home_team_defending_side_column(df)\n",
    "df = processor.add_shooting_distance_column(df)\n",
    "df = processor.add_shot_angle_column(df)\n",
    "df = processor.add_rebound_angle_column(df)\n",
    "df = processor.add_speed_from_last_event_column(df)\n",
    "\n",
    "exporter.save_to_csv(df)"
   ]
  }
 ],
 "metadata": {
  "kernelspec": {
   "display_name": "Python 3 (ipykernel)",
   "language": "python",
   "name": "python3"
  },
  "language_info": {
   "codemirror_mode": {
    "name": "ipython",
    "version": 3
   },
   "file_extension": ".py",
   "mimetype": "text/x-python",
   "name": "python",
   "nbconvert_exporter": "python",
   "pygments_lexer": "ipython3",
   "version": "3.12.4"
  }
 },
 "nbformat": 4,
 "nbformat_minor": 4
}
