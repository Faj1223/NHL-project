{
 "cells": [
  {
   "cell_type": "code",
   "id": "initial_id",
   "metadata": {
    "collapsed": true,
    "ExecuteTime": {
     "end_time": "2024-11-17T00:50:24.189986Z",
     "start_time": "2024-11-17T00:50:24.185063Z"
    }
   },
   "source": [
    "from ift6758.controller.nhl_data_downloader import NHLDataDownloader\n",
    "\n",
    "downloader = NHLDataDownloader()\n"
   ],
   "outputs": [],
   "execution_count": 2
  },
  {
   "metadata": {},
   "cell_type": "code",
   "source": "downloader.download_all_seasons_play_by_play(2016,2020)",
   "id": "a22b7dfbe33edef9",
   "outputs": [],
   "execution_count": null
  },
  {
   "metadata": {},
   "cell_type": "code",
   "source": [
    "#range(2016, 2020) will download all seasons from 2016 to 2019\n",
    "train_val_df = downloader.load_season_data(season_range=range(2016, 2020))\n",
    "print(train_val_df.head())"
   ],
   "id": "f50e0d2798855c98",
   "outputs": [],
   "execution_count": null
  },
  {
   "metadata": {},
   "cell_type": "code",
   "source": [
    "test_df = downloader.load_season_data(season_range=[2020])\n",
    "print(test_df.head())"
   ],
   "id": "cbf00597472f15fb",
   "outputs": [],
   "execution_count": null
  }
 ],
 "metadata": {
  "kernelspec": {
   "display_name": "Python 3",
   "language": "python",
   "name": "python3"
  },
  "language_info": {
   "codemirror_mode": {
    "name": "ipython",
    "version": 2
   },
   "file_extension": ".py",
   "mimetype": "text/x-python",
   "name": "python",
   "nbconvert_exporter": "python",
   "pygments_lexer": "ipython2",
   "version": "2.7.6"
  }
 },
 "nbformat": 4,
 "nbformat_minor": 5
}
