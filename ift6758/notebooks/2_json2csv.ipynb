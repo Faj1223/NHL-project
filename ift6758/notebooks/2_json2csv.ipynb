{
 "cells": [
  {
   "cell_type": "code",
   "execution_count": 4,
   "metadata": {},
   "outputs": [],
   "source": [
    "import os\n",
    "import sys\n",
    "\n",
    "if os.path.join(os.path.dirname(os.getcwd()), \"controller\") not in sys.path:\n",
    "    sys.path.append(os.path.join(os.path.dirname(os.getcwd()), \"controller\"))\n",
    "\n",
    "from nhl_data_loader import NHLDataLoader\n",
    "from nhl_data_processor import NHLDataProcessor\n",
    "from nhl_data_exporter import NHLDataExporter\n",
    "\n",
    "# À compléter\n",
    "seasons = [2016, 2017, 2018, 2019, 2020, 2021]\n",
    "\n",
    "data_dir_path = os.path.join(os.path.dirname(os.getcwd()), \"data\")\n",
    "\n",
    "loader = NHLDataLoader()\n",
    "processor = NHLDataProcessor()\n",
    "exporter = NHLDataExporter()\n",
    "\n",
    "for season in seasons:\n",
    "    csv_files_season_dir_path = os.path.join(data_dir_path, \"play_by_play\", \"json\", f\"{season}\")\n",
    "    json_files_names = [json_file_name for json_file_name in os.listdir(csv_files_season_dir_path) if json_file_name.endswith('.json')]\n",
    "    for json_file_name in json_files_names:\n",
    "        game_id = json_file_name.split('.')[0]\n",
    "        dictionary = loader.load_json_file(game_id)\n",
    "        df = processor.dictionary_to_dataframe_single_game(dictionary)\n",
    "        exporter.save_to_csv(df)"
   ]
  }
 ],
 "metadata": {
  "kernelspec": {
   "display_name": "Python 3 (ipykernel)",
   "language": "python",
   "name": "python3"
  },
  "language_info": {
   "codemirror_mode": {
    "name": "ipython",
    "version": 3
   },
   "file_extension": ".py",
   "mimetype": "text/x-python",
   "name": "python",
   "nbconvert_exporter": "python",
   "pygments_lexer": "ipython3",
   "version": "3.12.4"
  }
 },
 "nbformat": 4,
 "nbformat_minor": 4
}
