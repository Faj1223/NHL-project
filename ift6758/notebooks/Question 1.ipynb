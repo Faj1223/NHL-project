{
 "cells": [
  {
   "cell_type": "markdown",
   "id": "d5958945-078b-4e38-8bd4-d860b9a893ff",
   "metadata": {},
   "source": [
    "<h1>Acquisition de données (25 %)</h1>\n",
    "<p>Notre NHLDataDownloader nous permet de télécharger les parties selon quelque critères. Nous pouvons télécharger un saison entière (saison regulière + playoffs), télécharger seulement qu'un sous-ensemble (regulière ou playoffs), télécharger un nombre limité de parties pour une saison (ex: les 10 premiers ID de la saision 2019) ou encore télécharger simplement une parties depuis un gameID.</p>\n",
    "\n",
    "<p>Nous téléchargeons d'abord le fichier json non traité sous \"data/play_by_play/ANNÉE/GAME_ID.json\". <br>\n",
    "Ensuite, nous traitons ce fichier pour le sauvegarder en format csv sous \"data/play_by_play/ANNÉE_CleanCSV/GAME_ID.csv\" <br>\n",
    "Ces fichiers pourront donc etre facilement utilisé pour les visualisations</p>\n",
    "\n",
    "<h4>Question 1.1 <br> *Voir le tutoriel pour un téléchargement des données comme le notre dans le blogue ici: (TODO!) INSERT LINK </h4>"
   ]
  },
  {
   "cell_type": "markdown",
   "id": "3ccaf1e4-a873-4504-b037-c63f2ef68972",
   "metadata": {},
   "source": [
    "<h2>Importations</h2>\n",
    "*L'utilisation de importlib permet le rafraichissement des sous-fichiers "
   ]
  },
  {
   "cell_type": "code",
   "id": "817bdbb9-43e0-4771-a396-0371cb1b9816",
   "metadata": {},
   "source": [
    "import sys\n",
    "from multiprocessing.util import debug\n",
    "\n",
    "import ift6758\n",
    "import sys\n",
    "import importlib\n",
    "\n",
    "sys.path.append('../..')\n",
    "from ift6758.controller.nhl_data_downloader import NHLDataDownloader, get_game_dataframe"
   ],
   "outputs": [],
   "execution_count": null
  },
  {
   "cell_type": "markdown",
   "id": "dee6b6e5-1224-48ae-a84e-bf963b82f7b7",
   "metadata": {},
   "source": "<h2>Simple download des 5 premiers ID de la saison 2016</h2>"
  },
  {
   "cell_type": "code",
   "id": "0555bf6d-85de-4f88-8bc9-d502ef536cf3",
   "metadata": {},
   "source": [
    "downloader = NHLDataDownloader()\n",
    "downloader.download_regular_season(2016, 5)"
   ],
   "outputs": [],
   "execution_count": null
  },
  {
   "cell_type": "markdown",
   "id": "dbe4dfae-0a2f-43c9-932e-8daa8dd7be79",
   "metadata": {},
   "source": [
    "<h2>Download complet des playoffs et de la saison régulière</h2>"
   ]
  },
  {
   "cell_type": "code",
   "id": "ee740a89-6238-4cc9-ad04-019b92bad41d",
   "metadata": {},
   "source": "downloader.download_all_seasons_play_by_play(2016,2016)",
   "outputs": [],
   "execution_count": null
  },
  {
   "metadata": {},
   "cell_type": "markdown",
   "source": "<h2>Download/Get du dataframe nettoyé pour une partie<h2>",
   "id": "a0650fd05de8b37a"
  },
  {
   "metadata": {},
   "cell_type": "code",
   "source": [
    "game_id = \"2016020002\"\n",
    "get_game_dataframe(game_id)"
   ],
   "id": "b630830e9f40444e",
   "outputs": [],
   "execution_count": null
  },
  {
   "metadata": {},
   "cell_type": "code",
   "source": "",
   "id": "7ba663d5afdd1ec8",
   "outputs": [],
   "execution_count": null
  }
 ],
 "metadata": {
  "kernelspec": {
   "display_name": "Python 3 (ipykernel)",
   "language": "python",
   "name": "python3"
  },
  "language_info": {
   "codemirror_mode": {
    "name": "ipython",
    "version": 3
   },
   "file_extension": ".py",
   "mimetype": "text/x-python",
   "name": "python",
   "nbconvert_exporter": "python",
   "pygments_lexer": "ipython3",
   "version": "3.12.6"
  }
 },
 "nbformat": 4,
 "nbformat_minor": 5
}
