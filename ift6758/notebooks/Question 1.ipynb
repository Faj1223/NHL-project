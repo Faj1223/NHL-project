{
 "cells": [
  {
   "cell_type": "markdown",
   "id": "d5958945-078b-4e38-8bd4-d860b9a893ff",
   "metadata": {},
   "source": [
    "<h1>Acquisition de données (25 %)</h1>\n",
    "Créez une fonction ou une classe pour télécharger les données play-by-play de la LNH pour la saison régulière et les séries éliminatoires. Le point d'accès principal qui nous intéresse est:\n",
    "https://statsapi.web.nhl.com/api/v1/game/[GAME_ID]/feed/live/\n",
    "\n",
    "Vous devrez lire le document de l’ANCIEN API non officiel pour comprendre comment le GAME_ID est formé. Vous pourriez ouvrir ce point d'accès dans votre navigateur pour examiner le JSON brut afin de l'explorer un peu (Firefox dispose d'un agréable visualiseur JSON intégré). \n",
    "Notez que ce document est généralement obsolète car la LNH est passée à une nouvelle API au cours de la saison 2023-24, mais l'ID de jeu est toujours formé de la même manière !\n",
    "\n",
    "Utilisez votre outil pour télécharger les données de la saison 2016-17 jusqu'à la saison 2023-24. Vous pouvez implémenter cela comme vous le souhaitez, mais si vous avez besoin de conseils, voici quelques astuces :\n",
    "\n",
    "Il s'agit d'une API publique, et à ce titre, vous devez être conscient que quelqu'un d'autre paie pour les requêtes. Vous devriez télécharger les données brutes et les sauvegarder localement, puis utiliser cette copie locale pour en extraire des ensembles de données propres/utilisables. \n",
    "\n",
    "Une façon de procéder pourrait être de définir une fonction qui accepte l'année cible et un chemin de fichier en argument, puis vérifie si un fichier correspondant à l'ensemble de données que vous allez télécharger existe à l'emplacement spécifié. Si c'est le cas, elle pourrait immédiatement ouvrir le fichier et renvoyer le contenu sauvegardé. Sinon, elle pourrait télécharger le contenu depuis l'API REST et le sauvegarder dans le fichier avant de renvoyer les données. Cela signifie que la première fois que vous exécutez cette fonction, elle téléchargera et mettra en cache les données localement, et la prochaine fois, elle chargera les données locales. Considérez l'utilisation de variables d'environnement pour permettre à chaque membre de l'équipe de spécifier des emplacements différents.\n",
    "\n",
    "Si vous voulez être encore plus sophistiqué, vous pourriez envisager d'intégrer cette logique dans une classe. Ceci se prête bien à la façon dont les données sont séparées par saisons de hockey, et vous permettrait d'ajouter une logique qui se généraliserait à toute autre saison que vous pourriez souhaiter analyser de manière propre et évolutive. Pour être encore plus sophistiqué, vous pourriez envisager de surcharger l'opérateur \"(__add__)\" sur cette classe pour vous permettre d'ajouter les données entre les saisons à une structure de données commune, vous permettant d'agréger les données sur plusieurs saisons. Ce n'est absolument pas obligatoire, ce ne sont que quelques idées pour vous inspirer! Vous êtes encouragés à être créatifs et à appliquer vos anciennes connaissances en structures de données/OOP à la science des données - cela peut vous faciliter la vie!\n",
    "\n",
    "Écrire des docstrings pour vos fonctions est une bonne habitude à prendre."
   ]
  },
  {
   "cell_type": "markdown",
   "id": "a1406150-68ae-4b16-abfc-59a0ee17e680",
   "metadata": {},
   "source": [
    "Questions\n",
    "\n",
    "1. Rédigez un bref tutoriel sur comment votre équipe a téléchargé l'ensemble de données. Imaginez que vous cherchiez un guide sur comment télécharger les données play-by-play; votre guide devrait vous faire dire \"Parfait - c'est exactement ce que je cherchais!\". Incluez votre fonction/classe et fournissez un exemple de son utilisation. Assurez-vous de ne pas simplement démontrer que votre fonctionnalité fonctionne. Il s’agit également d’un exercice de documentation et de communication de votre implémentation. Il n’est pas nécessaire que ce soit extrêmement compliqué, mais on attend quelque chose d’un peu plus cohérent et digeste que de simples captures d’écran de vos fonctions/code."
   ]
  },
  {
   "cell_type": "markdown",
   "id": "3ccaf1e4-a873-4504-b037-c63f2ef68972",
   "metadata": {},
   "source": [
    "<h2>Importations</h2>"
   ]
  },
  {
   "cell_type": "code",
   "execution_count": 3,
   "id": "817bdbb9-43e0-4771-a396-0371cb1b9816",
   "metadata": {},
   "outputs": [],
   "source": [
    "import sys\n",
    "from multiprocessing.util import debug\n",
    "\n",
    "sys.path.append('..')\n",
    "import controller.nhl_data_downloader\n",
    "import importlib\n",
    "importlib.reload(controller.nhl_data_downloader)\n",
    "from controller.nhl_data_downloader import NHLDataDownloader"
   ]
  },
  {
   "cell_type": "markdown",
   "id": "dee6b6e5-1224-48ae-a84e-bf963b82f7b7",
   "metadata": {},
   "source": [
    "<h2>Simple download pour tester</h2>"
   ]
  },
  {
   "cell_type": "code",
   "execution_count": null,
   "id": "0555bf6d-85de-4f88-8bc9-d502ef536cf3",
   "metadata": {},
   "outputs": [],
   "source": [
    "downloader = NHLDataDownloader()\n",
    "downloader.download_regular_season(2016, 5)"
   ]
  },
  {
   "cell_type": "markdown",
   "id": "dbe4dfae-0a2f-43c9-932e-8daa8dd7be79",
   "metadata": {},
   "source": [
    "<h2>Download complet des playoffs et de la saison régulière</h2>"
   ]
  },
  {
   "cell_type": "code",
   "execution_count": null,
   "id": "ee740a89-6238-4cc9-ad04-019b92bad41d",
   "metadata": {},
   "outputs": [],
   "source": [
    "downloader.download_all_seasons_play_by_play(2016,2023)"
   ]
  }
 ],
 "metadata": {
  "kernelspec": {
   "display_name": "Python 3 (ipykernel)",
   "language": "python",
   "name": "python3"
  },
  "language_info": {
   "codemirror_mode": {
    "name": "ipython",
    "version": 3
   },
   "file_extension": ".py",
   "mimetype": "text/x-python",
   "name": "python",
   "nbconvert_exporter": "python",
   "pygments_lexer": "ipython3",
   "version": "3.12.6"
  }
 },
 "nbformat": 4,
 "nbformat_minor": 5
}
