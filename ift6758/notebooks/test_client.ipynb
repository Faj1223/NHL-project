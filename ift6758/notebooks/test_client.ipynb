{
 "cells": [
  {
   "cell_type": "code",
   "id": "initial_id",
   "metadata": {
    "collapsed": true,
    "ExecuteTime": {
     "end_time": "2024-12-13T19:22:15.223470Z",
     "start_time": "2024-12-13T19:22:14.236134Z"
    }
   },
   "source": [
    "from ift6758.client import ServingClient\n",
    "import pandas as pd"
   ],
   "outputs": [],
   "execution_count": 1
  },
  {
   "metadata": {
    "ExecuteTime": {
     "end_time": "2024-12-13T19:22:27.435024Z",
     "start_time": "2024-12-13T19:22:27.430045Z"
    }
   },
   "cell_type": "code",
   "source": "client = ServingClient(ip=\"127.0.0.1\", port=5000)",
   "id": "44ce63c6c5f1ec09",
   "outputs": [],
   "execution_count": 2
  },
  {
   "metadata": {
    "ExecuteTime": {
     "end_time": "2024-12-13T19:22:36.168081Z",
     "start_time": "2024-12-13T19:22:36.136910Z"
    }
   },
   "cell_type": "code",
   "source": [
    "data = pd.DataFrame({\n",
    "    \"shooting_distance\": [20, 25],\n",
    "    \"shot_angle\": [30, 45]\n",
    "})\n",
    "predictions = client.predict(data)\n",
    "print(\"Predictions:\", predictions)"
   ],
   "id": "3923ece0f4ec3165",
   "outputs": [
    {
     "name": "stdout",
     "output_type": "stream",
     "text": [
      "Predictions:    predictions\n",
      "0     0.972244\n",
      "1     0.997646\n"
     ]
    }
   ],
   "execution_count": 3
  },
  {
   "metadata": {
    "ExecuteTime": {
     "end_time": "2024-12-13T19:23:32.199999Z",
     "start_time": "2024-12-13T19:23:32.192178Z"
    }
   },
   "cell_type": "code",
   "source": [
    "logs = client.logs()\n",
    "print(\"Logs:\", logs)\n"
   ],
   "id": "5557575767441f",
   "outputs": [
    {
     "name": "stdout",
     "output_type": "stream",
     "text": [
      "Logs: {'logs': ['2024-12-12 17:42:38,536 - INFO - Serving on http://0.0.0.0:5000\\n', '2024-12-12 17:43:33,390 - INFO - Serving on http://0.0.0.0:5000\\n', '2024-12-12 17:45:38,366 - INFO - Application started.\\n', '2024-12-12 17:45:38,702 - INFO - Default model loaded successfully.\\n', '2024-12-12 17:45:38,702 - INFO - Request received on /logs\\n', '2024-12-12 17:45:38,703 - INFO - Logs successfully retrieved\\n', '2024-12-12 17:59:00,167 - INFO - Serving on http://0.0.0.0:5000\\n', '2024-12-12 18:01:22,183 - INFO - Serving on http://0.0.0.0:5000\\n', '2024-12-12 18:01:33,285 - INFO - Application started.\\n', '2024-12-12 18:01:33,510 - INFO - Default model loaded successfully.\\n', '2024-12-12 18:01:33,510 - INFO - Request received on /logs\\n', '2024-12-12 18:01:33,511 - INFO - Logs successfully retrieved\\n', '2024-12-12 18:11:49,117 - INFO - Serving on http://0.0.0.0:5000\\n', '2024-12-12 18:12:05,936 - INFO - Application started.\\n', '2024-12-12 18:12:06,165 - INFO - Default model loaded successfully.\\n', '2024-12-12 18:12:06,165 - INFO - Request received on /logs\\n', '2024-12-12 18:12:06,166 - INFO - Logs successfully retrieved\\n', '2024-12-12 18:26:06,518 - INFO - Prediction successful\\n', '2024-12-12 18:26:18,671 - INFO - Model distance_only_model loaded from local storage.\\n', '2024-12-13 14:01:18,213 - INFO - Downloading model distance_angle_model from W&B...\\n', \"2024-12-13 14:01:18,819 - ERROR - Failed to download/load model: project 'uncategorized' not found under entity 'toma-allary-universit-de-montr-al'\\n\", '2024-12-13 14:12:33,077 - INFO - Serving on http://0.0.0.0:5000\\n', '2024-12-13 14:13:00,432 - INFO - Application started.\\n', '2024-12-13 14:13:00,709 - INFO - Default model loaded successfully.\\n', \"2024-12-13 14:13:00,710 - ERROR - Prediction failed: 400 Bad Request: Invalid input: JSON payload with 'data' key is required.\\n\", '2024-12-13 14:15:04,929 - INFO - Serving on http://0.0.0.0:5000\\n', '2024-12-13 14:15:24,453 - INFO - Application started.\\n', '2024-12-13 14:15:24,621 - INFO - Default model loaded successfully.\\n', '2024-12-13 14:15:24,628 - INFO - Prediction successful\\n', '2024-12-13 14:22:36,158 - INFO - Prediction successful\\n', '2024-12-13 14:22:52,096 - INFO - Request received on /logs\\n', '2024-12-13 14:22:52,097 - INFO - Logs successfully retrieved\\n', '2024-12-13 14:22:52,108 - INFO - Model distance_only_model loaded from local storage.\\n', '2024-12-13 14:23:32,196 - INFO - Request received on /logs\\n']}\n"
     ]
    }
   ],
   "execution_count": 5
  },
  {
   "metadata": {
    "ExecuteTime": {
     "end_time": "2024-12-13T19:23:40.409044Z",
     "start_time": "2024-12-13T19:23:40.400053Z"
    }
   },
   "cell_type": "code",
   "source": [
    "response = client.download_registry_model(workspace=\"your_workspace\", model=\"distance_only_model\", version=\"latest\")\n",
    "print(\"Model download response:\", response)"
   ],
   "id": "de111efda44cd3ff",
   "outputs": [
    {
     "name": "stdout",
     "output_type": "stream",
     "text": [
      "Model download response: {'message': 'Model distance_only_model loaded from local storage.', 'status': 'success'}\n"
     ]
    }
   ],
   "execution_count": 6
  }
 ],
 "metadata": {
  "kernelspec": {
   "display_name": "Python 3",
   "language": "python",
   "name": "python3"
  },
  "language_info": {
   "codemirror_mode": {
    "name": "ipython",
    "version": 2
   },
   "file_extension": ".py",
   "mimetype": "text/x-python",
   "name": "python",
   "nbconvert_exporter": "python",
   "pygments_lexer": "ipython2",
   "version": "2.7.6"
  }
 },
 "nbformat": 4,
 "nbformat_minor": 5
}
