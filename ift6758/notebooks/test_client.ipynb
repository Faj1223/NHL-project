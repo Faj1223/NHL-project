{
 "cells": [
  {
   "cell_type": "code",
   "id": "initial_id",
   "metadata": {
    "collapsed": true,
    "ExecuteTime": {
     "end_time": "2024-12-16T20:32:09.408266Z",
     "start_time": "2024-12-16T20:32:08.385632Z"
    }
   },
   "source": [
    "from ift6758.client import ServingClient\n",
    "import pandas as pd"
   ],
   "outputs": [],
   "execution_count": 1
  },
  {
   "metadata": {
    "ExecuteTime": {
     "end_time": "2024-12-16T20:32:17.475638Z",
     "start_time": "2024-12-16T20:32:17.468636Z"
    }
   },
   "cell_type": "code",
   "source": "client = ServingClient(ip=\"127.0.0.1\", port=5000)",
   "id": "44ce63c6c5f1ec09",
   "outputs": [],
   "execution_count": 2
  },
  {
   "metadata": {
    "ExecuteTime": {
     "end_time": "2024-12-16T20:34:00.891753Z",
     "start_time": "2024-12-16T20:34:00.863982Z"
    }
   },
   "cell_type": "code",
   "source": [
    "data = pd.DataFrame({\n",
    "    \"shooting_distance\": [20, 25],\n",
    "    \"shot_angle\": [30, 45]\n",
    "})\n",
    "predictions = client.predict(data)\n",
    "print(\"Predictions:\", predictions)"
   ],
   "id": "3923ece0f4ec3165",
   "outputs": [
    {
     "name": "stdout",
     "output_type": "stream",
     "text": [
      "Predictions:    predictions\n",
      "0     0.999186\n",
      "1     0.999994\n"
     ]
    }
   ],
   "execution_count": 4
  },
  {
   "metadata": {
    "ExecuteTime": {
     "end_time": "2024-12-16T20:34:03.198942Z",
     "start_time": "2024-12-16T20:34:03.180209Z"
    }
   },
   "cell_type": "code",
   "source": [
    "logs = client.logs()\n",
    "print(\"Logs:\", logs)\n"
   ],
   "id": "5557575767441f",
   "outputs": [
    {
     "name": "stdout",
     "output_type": "stream",
     "text": [
      "Logs: {'logs': ['2024-12-16 20:20:21,559 - INFO - Serving on http://0.0.0.0:5000\\n', '2024-12-16 20:32:17,658 - INFO - Application started.\\n', '2024-12-16 20:32:18,114 - ERROR - Failed to log in to Wandb: api_key not configured (no-tty). call wandb.login(key=[your_api_key])\\n', '2024-12-16 20:32:18,216 - INFO - Default model loaded successfully.\\n', '2024-12-16 20:32:18,223 - INFO - Prediction successful\\n', '2024-12-16 20:34:00,883 - INFO - Prediction successful\\n', '2024-12-16 20:34:03,192 - INFO - Request received on /logs\\n']}\n"
     ]
    }
   ],
   "execution_count": 5
  },
  {
   "metadata": {
    "ExecuteTime": {
     "end_time": "2024-12-16T20:34:44.814142Z",
     "start_time": "2024-12-16T20:34:44.791128Z"
    }
   },
   "cell_type": "code",
   "source": [
    "response = client.download_registry_model(workspace=\"your_workspace\", model=\"distance_only_model\", version=\"latest\")\n",
    "print(\"Model download response:\", response)"
   ],
   "id": "de111efda44cd3ff",
   "outputs": [
    {
     "name": "stdout",
     "output_type": "stream",
     "text": [
      "Model download response: {'message': 'Model distance_only_model loaded from local storage.', 'status': 'success'}\n"
     ]
    }
   ],
   "execution_count": 6
  },
  {
   "metadata": {},
   "cell_type": "code",
   "outputs": [],
   "execution_count": null,
   "source": "",
   "id": "eadc0fa6c2ae79bc"
  }
 ],
 "metadata": {
  "kernelspec": {
   "display_name": "Python 3",
   "language": "python",
   "name": "python3"
  },
  "language_info": {
   "codemirror_mode": {
    "name": "ipython",
    "version": 2
   },
   "file_extension": ".py",
   "mimetype": "text/x-python",
   "name": "python",
   "nbconvert_exporter": "python",
   "pygments_lexer": "ipython2",
   "version": "2.7.6"
  }
 },
 "nbformat": 4,
 "nbformat_minor": 5
}
