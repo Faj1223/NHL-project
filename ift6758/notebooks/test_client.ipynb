{
 "cells": [
  {
   "cell_type": "code",
   "id": "initial_id",
   "metadata": {
    "collapsed": true,
    "ExecuteTime": {
     "end_time": "2024-12-17T21:03:35.770700Z",
     "start_time": "2024-12-17T21:03:33.766568Z"
    }
   },
   "source": [
    "import importlib\n",
    "\n",
    "import ift6758.client\n",
    "\n",
    "importlib.reload(ift6758.client)\n",
    "\n",
    "import pandas as pd"
   ],
   "outputs": [],
   "execution_count": 1
  },
  {
   "metadata": {
    "ExecuteTime": {
     "end_time": "2024-12-17T21:03:37.208226Z",
     "start_time": "2024-12-17T21:03:37.202206Z"
    }
   },
   "cell_type": "code",
   "source": "client = ift6758.client.ServingClient(ip=\"127.0.0.1\", port=5000)",
   "id": "44ce63c6c5f1ec09",
   "outputs": [],
   "execution_count": 2
  },
  {
   "metadata": {
    "ExecuteTime": {
     "end_time": "2024-12-17T21:06:55.973391Z",
     "start_time": "2024-12-17T21:06:55.931844Z"
    }
   },
   "cell_type": "code",
   "source": [
    "data = pd.DataFrame({\n",
    "    \"shooting_distance\": [20, 25],\n",
    "    \"shot_angle\": [30, 45]\n",
    "})\n",
    "predictions = client.predict(data)\n",
    "print(\"Predictions:\", predictions)"
   ],
   "id": "3923ece0f4ec3165",
   "outputs": [
    {
     "name": "stdout",
     "output_type": "stream",
     "text": [
      "Predictions:    predictions\n",
      "0     0.026004\n",
      "1     0.021491\n"
     ]
    }
   ],
   "execution_count": 7
  },
  {
   "metadata": {
    "ExecuteTime": {
     "end_time": "2024-12-17T21:03:55.252725Z",
     "start_time": "2024-12-17T21:03:55.229363Z"
    }
   },
   "cell_type": "code",
   "source": [
    "logs = client.logs()['logs']\n",
    "print(type(logs))\n",
    "# print(\"Logs:\", logs)\n",
    "# print(logs.keys())\n",
    "\n",
    "for entry in logs:\n",
    "    for line in entry.split('\\n'):\n",
    "        print(line)\n"
   ],
   "id": "5557575767441f",
   "outputs": [
    {
     "name": "stdout",
     "output_type": "stream",
     "text": [
      "<class 'list'>\n",
      "2024-12-17 20:37:17,358 - INFO - Serving on http://0.0.0.0:5000\n",
      "\n",
      "2024-12-17 20:38:02,544 - INFO - Application started.\n",
      "\n",
      "2024-12-17 20:38:03,444 - INFO - Successfully logged in to Wandb.\n",
      "\n",
      "2024-12-17 20:38:03,445 - WARNING - Default model not found. No model loaded.\n",
      "\n",
      "2024-12-17 20:38:03,447 - ERROR - Prediction failed: 'NoneType' object has no attribute 'predict_proba'\n",
      "\n",
      "2024-12-17 20:38:06,401 - INFO - Downloading model XGBoostModel_model_11_24_22-161630 from W&B...\n",
      "\n",
      "2024-12-17 20:38:07,908 - INFO - WANDB download request for model  toma-allary-universit-de-montr-al/IFT6758.2024-A09/XGBoostModel_model_11_24_22-161630:v0.\n",
      "\n",
      "2024-12-17 20:38:08,424 - ERROR - Failed to download/load model: [20:38:08] ../include/xgboost/json.h:79: Invalid cast, from Array to Object\n",
      "\n",
      "Stack trace:\n",
      "\n",
      "  [bt] (0) /opt/venv/lib/python3.7/site-packages/xgboost/lib/libxgboost.so(+0xbbec9) [0x7fef7f8bbec9]\n",
      "\n",
      "  [bt] (1) /opt/venv/lib/python3.7/site-packages/xgboost/lib/libxgboost.so(+0xe2078) [0x7fef7f8e2078]\n",
      "\n",
      "  [bt] (2) /opt/venv/lib/python3.7/site-packages/xgboost/lib/libxgboost.so(+0x1eb0e3) [0x7fef7f9eb0e3]\n",
      "\n",
      "  [bt] (3) /opt/venv/lib/python3.7/site-packages/xgboost/lib/libxgboost.so(+0x226bdf) [0x7fef7fa26bdf]\n",
      "\n",
      "  [bt] (4) /opt/venv/lib/python3.7/site-packages/xgboost/lib/libxgboost.so(+0x232ef8) [0x7fef7fa32ef8]\n",
      "\n",
      "  [bt] (5) /opt/venv/lib/python3.7/site-packages/xgboost/lib/libxgboost.so(XGBoosterUnserializeFromBuffer+0x5c) [0x7fef7f8bd81c]\n",
      "\n",
      "  [bt] (6) /lib/x86_64-linux-gnu/libffi.so.8(+0x6f7a) [0x7fefe37e7f7a]\n",
      "\n",
      "  [bt] (7) /lib/x86_64-linux-gnu/libffi.so.8(+0x640e) [0x7fefe37e740e]\n",
      "\n",
      "  [bt] (8) /lib/x86_64-linux-gnu/libffi.so.8(ffi_call+0xcd) [0x7fefe37e7b0d]\n",
      "\n",
      "\n",
      "\n",
      "\n",
      "\n",
      "2024-12-17 20:38:08,425 - ERROR - Error in /download_registry_model: 500 Internal Server Error: Failed to download/load model: [20:38:08] ../include/xgboost/json.h:79: Invalid cast, from Array to Object\n",
      "\n",
      "Stack trace:\n",
      "\n",
      "  [bt] (0) /opt/venv/lib/python3.7/site-packages/xgboost/lib/libxgboost.so(+0xbbec9) [0x7fef7f8bbec9]\n",
      "\n",
      "  [bt] (1) /opt/venv/lib/python3.7/site-packages/xgboost/lib/libxgboost.so(+0xe2078) [0x7fef7f8e2078]\n",
      "\n",
      "  [bt] (2) /opt/venv/lib/python3.7/site-packages/xgboost/lib/libxgboost.so(+0x1eb0e3) [0x7fef7f9eb0e3]\n",
      "\n",
      "  [bt] (3) /opt/venv/lib/python3.7/site-packages/xgboost/lib/libxgboost.so(+0x226bdf) [0x7fef7fa26bdf]\n",
      "\n",
      "  [bt] (4) /opt/venv/lib/python3.7/site-packages/xgboost/lib/libxgboost.so(+0x232ef8) [0x7fef7fa32ef8]\n",
      "\n",
      "  [bt] (5) /opt/venv/lib/python3.7/site-packages/xgboost/lib/libxgboost.so(XGBoosterUnserializeFromBuffer+0x5c) [0x7fef7f8bd81c]\n",
      "\n",
      "  [bt] (6) /lib/x86_64-linux-gnu/libffi.so.8(+0x6f7a) [0x7fefe37e7f7a]\n",
      "\n",
      "  [bt] (7) /lib/x86_64-linux-gnu/libffi.so.8(+0x640e) [0x7fefe37e740e]\n",
      "\n",
      "  [bt] (8) /lib/x86_64-linux-gnu/libffi.so.8(ffi_call+0xcd) [0x7fefe37e7b0d]\n",
      "\n",
      "\n",
      "\n",
      "\n",
      "\n",
      "2024-12-17 20:48:00,185 - ERROR - Error in /download_registry_model: [20:48:00] ../include/xgboost/json.h:79: Invalid cast, from Array to Object\n",
      "\n",
      "Stack trace:\n",
      "\n",
      "  [bt] (0) /opt/venv/lib/python3.7/site-packages/xgboost/lib/libxgboost.so(+0xbbec9) [0x7fef7f8bbec9]\n",
      "\n",
      "  [bt] (1) /opt/venv/lib/python3.7/site-packages/xgboost/lib/libxgboost.so(+0xe2078) [0x7fef7f8e2078]\n",
      "\n",
      "  [bt] (2) /opt/venv/lib/python3.7/site-packages/xgboost/lib/libxgboost.so(+0x1eb0e3) [0x7fef7f9eb0e3]\n",
      "\n",
      "  [bt] (3) /opt/venv/lib/python3.7/site-packages/xgboost/lib/libxgboost.so(+0x226bdf) [0x7fef7fa26bdf]\n",
      "\n",
      "  [bt] (4) /opt/venv/lib/python3.7/site-packages/xgboost/lib/libxgboost.so(+0x232ef8) [0x7fef7fa32ef8]\n",
      "\n",
      "  [bt] (5) /opt/venv/lib/python3.7/site-packages/xgboost/lib/libxgboost.so(XGBoosterUnserializeFromBuffer+0x5c) [0x7fef7f8bd81c]\n",
      "\n",
      "  [bt] (6) /lib/x86_64-linux-gnu/libffi.so.8(+0x6f7a) [0x7fefe37e7f7a]\n",
      "\n",
      "  [bt] (7) /lib/x86_64-linux-gnu/libffi.so.8(+0x640e) [0x7fefe37e740e]\n",
      "\n",
      "  [bt] (8) /lib/x86_64-linux-gnu/libffi.so.8(ffi_call+0xcd) [0x7fefe37e7b0d]\n",
      "\n",
      "\n",
      "\n",
      "\n",
      "\n",
      "2024-12-17 20:48:18,223 - ERROR - Error in /download_registry_model: [20:48:18] ../include/xgboost/json.h:79: Invalid cast, from Array to Object\n",
      "\n",
      "Stack trace:\n",
      "\n",
      "  [bt] (0) /opt/venv/lib/python3.7/site-packages/xgboost/lib/libxgboost.so(+0xbbec9) [0x7fef7f8bbec9]\n",
      "\n",
      "  [bt] (1) /opt/venv/lib/python3.7/site-packages/xgboost/lib/libxgboost.so(+0xe2078) [0x7fef7f8e2078]\n",
      "\n",
      "  [bt] (2) /opt/venv/lib/python3.7/site-packages/xgboost/lib/libxgboost.so(+0x1eb0e3) [0x7fef7f9eb0e3]\n",
      "\n",
      "  [bt] (3) /opt/venv/lib/python3.7/site-packages/xgboost/lib/libxgboost.so(+0x226bdf) [0x7fef7fa26bdf]\n",
      "\n",
      "  [bt] (4) /opt/venv/lib/python3.7/site-packages/xgboost/lib/libxgboost.so(+0x232ef8) [0x7fef7fa32ef8]\n",
      "\n",
      "  [bt] (5) /opt/venv/lib/python3.7/site-packages/xgboost/lib/libxgboost.so(XGBoosterUnserializeFromBuffer+0x5c) [0x7fef7f8bd81c]\n",
      "\n",
      "  [bt] (6) /lib/x86_64-linux-gnu/libffi.so.8(+0x6f7a) [0x7fefe37e7f7a]\n",
      "\n",
      "  [bt] (7) /lib/x86_64-linux-gnu/libffi.so.8(+0x640e) [0x7fefe37e740e]\n",
      "\n",
      "  [bt] (8) /lib/x86_64-linux-gnu/libffi.so.8(ffi_call+0xcd) [0x7fefe37e7b0d]\n",
      "\n",
      "\n",
      "\n",
      "\n",
      "\n",
      "2024-12-17 20:48:46,067 - ERROR - Prediction failed: 'NoneType' object has no attribute 'predict_proba'\n",
      "\n",
      "2024-12-17 20:48:54,837 - INFO - Request received on /logs\n",
      "\n",
      "2024-12-17 20:48:54,837 - INFO - Logs successfully retrieved\n",
      "\n",
      "2024-12-17 20:51:28,658 - INFO - Request received on /logs\n",
      "\n",
      "2024-12-17 20:51:28,659 - INFO - Logs successfully retrieved\n",
      "\n",
      "2024-12-17 20:51:55,015 - INFO - Request received on /logs\n",
      "\n",
      "2024-12-17 20:51:55,015 - INFO - Logs successfully retrieved\n",
      "\n",
      "2024-12-17 20:52:07,488 - INFO - Request received on /logs\n",
      "\n",
      "2024-12-17 20:52:07,489 - INFO - Logs successfully retrieved\n",
      "\n",
      "2024-12-17 20:52:29,042 - INFO - Request received on /logs\n",
      "\n",
      "2024-12-17 20:52:29,042 - INFO - Logs successfully retrieved\n",
      "\n",
      "2024-12-17 20:52:51,298 - INFO - Request received on /logs\n",
      "\n",
      "2024-12-17 20:52:51,299 - INFO - Logs successfully retrieved\n",
      "\n",
      "2024-12-17 20:53:40,380 - INFO - Request received on /logs\n",
      "\n",
      "2024-12-17 20:53:40,381 - INFO - Logs successfully retrieved\n",
      "\n",
      "2024-12-17 20:54:38,726 - INFO - Request received on /logs\n",
      "\n",
      "2024-12-17 20:54:38,726 - INFO - Logs successfully retrieved\n",
      "\n",
      "2024-12-17 20:54:56,974 - INFO - Request received on /logs\n",
      "\n",
      "2024-12-17 20:54:56,975 - INFO - Logs successfully retrieved\n",
      "\n",
      "2024-12-17 20:55:04,505 - INFO - Request received on /logs\n",
      "\n",
      "2024-12-17 20:55:04,506 - INFO - Logs successfully retrieved\n",
      "\n",
      "2024-12-17 20:55:39,237 - INFO - Request received on /logs\n",
      "\n",
      "2024-12-17 20:55:39,237 - INFO - Logs successfully retrieved\n",
      "\n",
      "2024-12-17 20:55:51,026 - INFO - Request received on /logs\n",
      "\n",
      "2024-12-17 20:55:51,026 - INFO - Logs successfully retrieved\n",
      "\n",
      "2024-12-17 20:56:06,023 - INFO - Request received on /logs\n",
      "\n",
      "2024-12-17 20:56:06,024 - INFO - Logs successfully retrieved\n",
      "\n",
      "2024-12-17 20:56:31,729 - INFO - Request received on /logs\n",
      "\n",
      "2024-12-17 20:56:31,730 - INFO - Logs successfully retrieved\n",
      "\n",
      "2024-12-17 20:58:39,740 - INFO - Downloading model angle_only_model from W&B...\n",
      "\n",
      "2024-12-17 20:58:40,498 - ERROR - Failed to download/load model: failed to find artifact collection angle_only_model (Error 404: Not Found)\n",
      "\n",
      "2024-12-17 20:58:40,498 - ERROR - Error in /download_registry_model: 500 Internal Server Error: Failed to download/load model: failed to find artifact collection angle_only_model (Error 404: Not Found)\n",
      "\n",
      "2024-12-17 20:58:45,789 - INFO - Request received on /logs\n",
      "\n",
      "2024-12-17 20:58:45,807 - INFO - Logs successfully retrieved\n",
      "\n",
      "2024-12-17 21:01:48,180 - INFO - Downloading model angle_only_model from W&B...\n",
      "\n",
      "2024-12-17 21:01:49,498 - INFO - WANDB download request for model  toma-allary-universit-de-montr-al/IFT6758.2024-A09/angle_only_model:v2.\n",
      "\n",
      "2024-12-17 21:01:49,647 - INFO - Model angle_only_model successfully downloaded and loaded.\n",
      "\n",
      "2024-12-17 21:03:21,080 - ERROR - Prediction failed: X has 2 features, but LogisticRegression is expecting 1 features as input.\n",
      "\n",
      "2024-12-17 21:03:38,749 - ERROR - Prediction failed: X has 2 features, but LogisticRegression is expecting 1 features as input.\n",
      "\n",
      "2024-12-17 21:03:55,241 - INFO - Request received on /logs\n",
      "\n"
     ]
    }
   ],
   "execution_count": 4
  },
  {
   "metadata": {
    "ExecuteTime": {
     "end_time": "2024-12-17T21:04:47.264325Z",
     "start_time": "2024-12-17T21:04:45.940591Z"
    }
   },
   "cell_type": "code",
   "source": [
    "response = client.download_registry_model(workspace=\"toma-allary-universit-de-montr-al/IFT6758.2024-A09\", model=\"distance_and_angle_model\", model_type=\"joblib\", version=\"v2\")\n",
    "print(\"Model download response:\", response)"
   ],
   "id": "de111efda44cd3ff",
   "outputs": [
    {
     "name": "stdout",
     "output_type": "stream",
     "text": [
      "Model download response: {'message': 'Model distance_and_angle_model downloaded and loaded.', 'status': 'success'}\n"
     ]
    }
   ],
   "execution_count": 6
  },
  {
   "metadata": {},
   "cell_type": "markdown",
   "source": "### test server logic here (can help to debug client)",
   "id": "516e9b05d1c4b6b9"
  },
  {
   "metadata": {
    "ExecuteTime": {
     "end_time": "2024-12-17T21:01:36.923344Z",
     "start_time": "2024-12-17T21:01:36.198478Z"
    }
   },
   "cell_type": "code",
   "source": [
    "import pickle\n",
    "import wandb\n",
    "import os\n",
    "from pathlib import Path\n",
    "import logging\n",
    "import sklearn\n",
    "import pandas as pd\n",
    "import joblib\n",
    "import wandb\n",
    "# Si non, télécharger depuis W&B\n",
    "\n",
    "# Define project and entity details\n",
    "entity = \"toma-allary-universit-de-montr-al\" \n",
    "project = \"IFT6758.2024-A09\"\n",
    "model_name = \"angle_only_model\"\n",
    "model_path = Path(f\"models/{model_name}.joblib\")\n",
    "\n",
    "try:\n",
    "    api = wandb.Api()\n",
    "    artifact = api.artifact(f\"{entity}/{project}/{model_name}:v2\", type=\"model\")\n",
    "    artifact.download(\"models/\")\n",
    "    # loaded_model = joblib.load(model_path)\n",
    "    with open(model_path, \"rb\") as f:\n",
    "            loaded_model = pickle.load(f)\n",
    "    \n",
    "    \n",
    "    print(f\"success!{type(loaded_model)}\")\n",
    "except Exception as download_error:\n",
    "    print(f\"Failed to download/load model: {download_error}\")\n",
    "    \n",
    "    # toma-allary-universit-de-montr-al/IFT6758.2024-A09/angle_only_artifact:v2\n"
   ],
   "id": "eadc0fa6c2ae79bc",
   "outputs": [
    {
     "name": "stderr",
     "output_type": "stream",
     "text": [
      "wandb:   1 of 1 files downloaded.  \n"
     ]
    },
    {
     "name": "stdout",
     "output_type": "stream",
     "text": [
      "success!<class 'numpy.ndarray'>\n"
     ]
    }
   ],
   "execution_count": 31
  },
  {
   "metadata": {},
   "cell_type": "code",
   "outputs": [],
   "execution_count": null,
   "source": "",
   "id": "13a65abb94112c0c"
  },
  {
   "metadata": {},
   "cell_type": "markdown",
   "source": "",
   "id": "7a4fbb24c0ad0060"
  },
  {
   "metadata": {},
   "cell_type": "code",
   "outputs": [],
   "execution_count": null,
   "source": "",
   "id": "3a4d1637cc3bcaca"
  }
 ],
 "metadata": {
  "kernelspec": {
   "display_name": "Python 3",
   "language": "python",
   "name": "python3"
  },
  "language_info": {
   "codemirror_mode": {
    "name": "ipython",
    "version": 2
   },
   "file_extension": ".py",
   "mimetype": "text/x-python",
   "name": "python",
   "nbconvert_exporter": "python",
   "pygments_lexer": "ipython2",
   "version": "2.7.6"
  }
 },
 "nbformat": 4,
 "nbformat_minor": 5
}
